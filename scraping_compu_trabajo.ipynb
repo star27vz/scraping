{
 "cells": [
  {
   "cell_type": "code",
   "execution_count": 3,
   "metadata": {},
   "outputs": [
    {
     "name": "stdout",
     "output_type": "stream",
     "text": [
      "Requirement already satisfied: webdriver-manager in c:\\users\\nitro\\appdata\\local\\programs\\python\\python310\\lib\\site-packages (4.0.1)\n",
      "Requirement already satisfied: packaging in c:\\users\\nitro\\appdata\\local\\programs\\python\\python310\\lib\\site-packages (from webdriver-manager) (21.3)\n",
      "Requirement already satisfied: requests in c:\\users\\nitro\\appdata\\local\\programs\\python\\python310\\lib\\site-packages (from webdriver-manager) (2.31.0)\n",
      "Requirement already satisfied: python-dotenv in c:\\users\\nitro\\appdata\\local\\programs\\python\\python310\\lib\\site-packages (from webdriver-manager) (1.0.0)\n",
      "Requirement already satisfied: pyparsing!=3.0.5,>=2.0.2 in c:\\users\\nitro\\appdata\\local\\programs\\python\\python310\\lib\\site-packages (from packaging->webdriver-manager) (3.0.9)\n",
      "Requirement already satisfied: certifi>=2017.4.17 in c:\\users\\nitro\\appdata\\local\\programs\\python\\python310\\lib\\site-packages (from requests->webdriver-manager) (2023.5.7)\n",
      "Requirement already satisfied: urllib3<3,>=1.21.1 in c:\\users\\nitro\\appdata\\local\\programs\\python\\python310\\lib\\site-packages (from requests->webdriver-manager) (1.26.16)\n",
      "Requirement already satisfied: idna<4,>=2.5 in c:\\users\\nitro\\appdata\\local\\programs\\python\\python310\\lib\\site-packages (from requests->webdriver-manager) (3.4)\n",
      "Requirement already satisfied: charset-normalizer<4,>=2 in c:\\users\\nitro\\appdata\\local\\programs\\python\\python310\\lib\\site-packages (from requests->webdriver-manager) (3.1.0)\n",
      "\n",
      "[notice] A new release of pip available: 22.1.2 -> 23.2.1\n",
      "[notice] To update, run: python.exe -m pip install --upgrade pip\n",
      "Note: you may need to restart the kernel to use updated packages.\n"
     ]
    }
   ],
   "source": [
    "pip install webdriver-manager"
   ]
  },
  {
   "cell_type": "code",
   "execution_count": 41,
   "metadata": {},
   "outputs": [],
   "source": [
    "from selenium import webdriver\n",
    "from selenium.webdriver.common.keys import Keys\n",
    "from selenium.webdriver.common.by import By\n",
    "import csv\n",
    "import time"
   ]
  },
  {
   "cell_type": "code",
   "execution_count": 48,
   "metadata": {},
   "outputs": [],
   "source": [
    "driver = webdriver.Edge()"
   ]
  },
  {
   "cell_type": "code",
   "execution_count": 49,
   "metadata": {},
   "outputs": [],
   "source": [
    "driver.get(\"https://pe.computrabajo.com/trabajo-de-asesor-de-ventas-en-lima\")"
   ]
  },
  {
   "cell_type": "code",
   "execution_count": 52,
   "metadata": {},
   "outputs": [
    {
     "ename": "KeyboardInterrupt",
     "evalue": "",
     "output_type": "error",
     "traceback": [
      "\u001b[1;31m---------------------------------------------------------------------------\u001b[0m",
      "\u001b[1;31mKeyboardInterrupt\u001b[0m                         Traceback (most recent call last)",
      "\u001b[1;32mc:\\Users\\NITRO\\Desktop\\scraping\\scraping_compu_trabajo.ipynb Celda 5\u001b[0m line \u001b[0;36m<cell line: 1>\u001b[1;34m()\u001b[0m\n\u001b[0;32m      <a href='vscode-notebook-cell:/c%3A/Users/NITRO/Desktop/scraping/scraping_compu_trabajo.ipynb#X41sZmlsZQ%3D%3D?line=7'>8</a>\u001b[0m \u001b[39mfor\u001b[39;00m elemento \u001b[39min\u001b[39;00m elementos_lista:\n\u001b[0;32m      <a href='vscode-notebook-cell:/c%3A/Users/NITRO/Desktop/scraping/scraping_compu_trabajo.ipynb#X41sZmlsZQ%3D%3D?line=8'>9</a>\u001b[0m     driver\u001b[39m.\u001b[39mexecute_script(\u001b[39m\"\u001b[39m\u001b[39marguments[0].click();\u001b[39m\u001b[39m\"\u001b[39m, elemento)\n\u001b[1;32m---> <a href='vscode-notebook-cell:/c%3A/Users/NITRO/Desktop/scraping/scraping_compu_trabajo.ipynb#X41sZmlsZQ%3D%3D?line=9'>10</a>\u001b[0m     time\u001b[39m.\u001b[39;49msleep(\u001b[39m3\u001b[39;49m) \n\u001b[0;32m     <a href='vscode-notebook-cell:/c%3A/Users/NITRO/Desktop/scraping/scraping_compu_trabajo.ipynb#X41sZmlsZQ%3D%3D?line=10'>11</a>\u001b[0m     trabajo \u001b[39m=\u001b[39m driver\u001b[39m.\u001b[39mfind_element(By\u001b[39m.\u001b[39mXPATH, \u001b[39m'\u001b[39m\u001b[39m//h1[@class=\u001b[39m\u001b[39m\"\u001b[39m\u001b[39mfwB fs24 mb5 box_detail w100_m\u001b[39m\u001b[39m\"\u001b[39m\u001b[39m]\u001b[39m\u001b[39m'\u001b[39m)\n\u001b[0;32m     <a href='vscode-notebook-cell:/c%3A/Users/NITRO/Desktop/scraping/scraping_compu_trabajo.ipynb#X41sZmlsZQ%3D%3D?line=11'>12</a>\u001b[0m     ubicacion \u001b[39m=\u001b[39m driver\u001b[39m.\u001b[39mfind_element(By\u001b[39m.\u001b[39mXPATH, \u001b[39m'\u001b[39m\u001b[39m//p[@class=\u001b[39m\u001b[39m\"\u001b[39m\u001b[39mfs16\u001b[39m\u001b[39m\"\u001b[39m\u001b[39m]\u001b[39m\u001b[39m'\u001b[39m)\n",
      "\u001b[1;31mKeyboardInterrupt\u001b[0m: "
     ]
    }
   ],
   "source": [
    "with open('compu_trabajo1.csv', 'w', newline='', encoding='utf-8') as csv_file:\n",
    "    csv_writer = csv.writer(csv_file)\n",
    "    #encabezados\n",
    "    csv_writer.writerow(['Nom_Trabajo','Ubicación', 'Remuneración','Tiempo']) \n",
    "\n",
    "    elementos_lista = driver.find_elements(By.XPATH, '//div[@class=\"w100\"]')\n",
    "\n",
    "    for elemento in elementos_lista:\n",
    "        driver.execute_script(\"arguments[0].click();\", elemento)\n",
    "        time.sleep(3) \n",
    "        trabajo = driver.find_element(By.XPATH, '//h1[@class=\"fwB fs24 mb5 box_detail w100_m\"]')\n",
    "        ubicacion = driver.find_element(By.XPATH, '//p[@class=\"fs16\"]')\n",
    "        remuneracion = driver.find_element(By.XPATH, '//div[@class=\"mbB\"]')\n",
    "        #pal_claves = driver.find_element(By.XPATH, '//p[@class=\"fc_aux fs13 mbB mtB\"]')\n",
    "        tiempo = driver.find_element(By.XPATH, '//p[@class=\"fc_aux fs13\"]')\n",
    "        #evaluacion = driver.find_element(By.XPATH, '//p[@class=\"fs50 fwB lh1 tc\"]')\n",
    "\n",
    "        csv_writer.writerow([trabajo.text,ubicacion.text,remuneracion.text,tiempo.text])\n",
    "\n",
    "        driver.back()#regresar pag anterior\n",
    "       \n",
    "    print('Guardados en \"compu_trabajo1.csv\".')\n",
    "    driver.quit()"
   ]
  }
 ],
 "metadata": {
  "kernelspec": {
   "display_name": "Python 3",
   "language": "python",
   "name": "python3"
  },
  "language_info": {
   "codemirror_mode": {
    "name": "ipython",
    "version": 3
   },
   "file_extension": ".py",
   "mimetype": "text/x-python",
   "name": "python",
   "nbconvert_exporter": "python",
   "pygments_lexer": "ipython3",
   "version": "3.10.5"
  },
  "orig_nbformat": 4
 },
 "nbformat": 4,
 "nbformat_minor": 2
}
