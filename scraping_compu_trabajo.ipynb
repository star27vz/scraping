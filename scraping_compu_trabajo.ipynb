{
 "cells": [
  {
   "cell_type": "code",
   "execution_count": 2,
   "metadata": {},
   "outputs": [
    {
     "name": "stdout",
     "output_type": "stream",
     "text": [
      "Collecting selenium\n",
      "  Downloading selenium-4.13.0-py3-none-any.whl (9.5 MB)\n",
      "     ---------------------------------------- 9.5/9.5 MB 16.4 MB/s eta 0:00:00\n",
      "Requirement already satisfied: urllib3[socks]<3,>=1.26 in c:\\users\\nitro\\appdata\\local\\programs\\python\\python310\\lib\\site-packages (from selenium) (1.26.16)\n",
      "Collecting trio-websocket~=0.9\n",
      "  Downloading trio_websocket-0.11.1-py3-none-any.whl (17 kB)\n",
      "Collecting trio~=0.17\n",
      "  Downloading trio-0.22.2-py3-none-any.whl (400 kB)\n",
      "     ------------------------------------- 400.2/400.2 kB 24.4 MB/s eta 0:00:00\n",
      "Requirement already satisfied: certifi>=2021.10.8 in c:\\users\\nitro\\appdata\\local\\programs\\python\\python310\\lib\\site-packages (from selenium) (2023.5.7)\n",
      "Collecting sortedcontainers\n",
      "  Downloading sortedcontainers-2.4.0-py2.py3-none-any.whl (29 kB)\n",
      "Collecting outcome\n",
      "  Downloading outcome-1.2.0-py2.py3-none-any.whl (9.7 kB)\n",
      "Requirement already satisfied: idna in c:\\users\\nitro\\appdata\\local\\programs\\python\\python310\\lib\\site-packages (from trio~=0.17->selenium) (3.4)\n",
      "Collecting sniffio\n",
      "  Downloading sniffio-1.3.0-py3-none-any.whl (10 kB)\n",
      "Requirement already satisfied: cffi>=1.14 in c:\\users\\nitro\\appdata\\local\\programs\\python\\python310\\lib\\site-packages (from trio~=0.17->selenium) (1.15.1)\n",
      "Collecting exceptiongroup>=1.0.0rc9\n",
      "  Downloading exceptiongroup-1.1.3-py3-none-any.whl (14 kB)\n",
      "Requirement already satisfied: attrs>=20.1.0 in c:\\users\\nitro\\appdata\\local\\programs\\python\\python310\\lib\\site-packages (from trio~=0.17->selenium) (22.1.0)\n",
      "Collecting wsproto>=0.14\n",
      "  Downloading wsproto-1.2.0-py3-none-any.whl (24 kB)\n",
      "Collecting PySocks!=1.5.7,<2.0,>=1.5.6\n",
      "  Downloading PySocks-1.7.1-py3-none-any.whl (16 kB)\n",
      "Requirement already satisfied: pycparser in c:\\users\\nitro\\appdata\\local\\programs\\python\\python310\\lib\\site-packages (from cffi>=1.14->trio~=0.17->selenium) (2.21)\n",
      "Collecting h11<1,>=0.9.0\n",
      "  Downloading h11-0.14.0-py3-none-any.whl (58 kB)\n",
      "     ---------------------------------------- 58.3/58.3 kB 3.2 MB/s eta 0:00:00\n",
      "Installing collected packages: sortedcontainers, sniffio, PySocks, outcome, h11, exceptiongroup, wsproto, trio, trio-websocket, selenium\n",
      "Successfully installed PySocks-1.7.1 exceptiongroup-1.1.3 h11-0.14.0 outcome-1.2.0 selenium-4.13.0 sniffio-1.3.0 sortedcontainers-2.4.0 trio-0.22.2 trio-websocket-0.11.1 wsproto-1.2.0\n",
      "\n",
      "[notice] A new release of pip available: 22.1.2 -> 23.2.1\n",
      "[notice] To update, run: python.exe -m pip install --upgrade pip\n",
      "Note: you may need to restart the kernel to use updated packages.\n"
     ]
    }
   ],
   "source": [
    "pip install selenium"
   ]
  },
  {
   "cell_type": "code",
   "execution_count": 4,
   "metadata": {},
   "outputs": [
    {
     "name": "stdout",
     "output_type": "stream",
     "text": [
      "Collecting undetected-chromedriver\n",
      "  Downloading undetected-chromedriver-3.5.3.tar.gz (65 kB)\n",
      "     ---------------------------------------- 65.3/65.3 kB 3.4 MB/s eta 0:00:00\n",
      "  Preparing metadata (setup.py): started\n",
      "  Preparing metadata (setup.py): finished with status 'done'\n",
      "Requirement already satisfied: selenium>=4.9.0 in c:\\users\\nitro\\appdata\\local\\programs\\python\\python310\\lib\\site-packages (from undetected-chromedriver) (4.13.0)\n",
      "Requirement already satisfied: requests in c:\\users\\nitro\\appdata\\local\\programs\\python\\python310\\lib\\site-packages (from undetected-chromedriver) (2.31.0)\n",
      "Collecting websockets\n",
      "  Downloading websockets-11.0.3-cp310-cp310-win_amd64.whl (124 kB)\n",
      "     -------------------------------------- 124.7/124.7 kB 3.6 MB/s eta 0:00:00\n",
      "Requirement already satisfied: urllib3[socks]<3,>=1.26 in c:\\users\\nitro\\appdata\\local\\programs\\python\\python310\\lib\\site-packages (from selenium>=4.9.0->undetected-chromedriver) (1.26.16)\n",
      "Requirement already satisfied: certifi>=2021.10.8 in c:\\users\\nitro\\appdata\\local\\programs\\python\\python310\\lib\\site-packages (from selenium>=4.9.0->undetected-chromedriver) (2023.5.7)\n",
      "Requirement already satisfied: trio~=0.17 in c:\\users\\nitro\\appdata\\local\\programs\\python\\python310\\lib\\site-packages (from selenium>=4.9.0->undetected-chromedriver) (0.22.2)\n",
      "Requirement already satisfied: trio-websocket~=0.9 in c:\\users\\nitro\\appdata\\local\\programs\\python\\python310\\lib\\site-packages (from selenium>=4.9.0->undetected-chromedriver) (0.11.1)\n",
      "Requirement already satisfied: charset-normalizer<4,>=2 in c:\\users\\nitro\\appdata\\local\\programs\\python\\python310\\lib\\site-packages (from requests->undetected-chromedriver) (3.1.0)\n",
      "Requirement already satisfied: idna<4,>=2.5 in c:\\users\\nitro\\appdata\\local\\programs\\python\\python310\\lib\\site-packages (from requests->undetected-chromedriver) (3.4)\n",
      "Requirement already satisfied: outcome in c:\\users\\nitro\\appdata\\local\\programs\\python\\python310\\lib\\site-packages (from trio~=0.17->selenium>=4.9.0->undetected-chromedriver) (1.2.0)\n",
      "Requirement already satisfied: sortedcontainers in c:\\users\\nitro\\appdata\\local\\programs\\python\\python310\\lib\\site-packages (from trio~=0.17->selenium>=4.9.0->undetected-chromedriver) (2.4.0)\n",
      "Requirement already satisfied: exceptiongroup>=1.0.0rc9 in c:\\users\\nitro\\appdata\\local\\programs\\python\\python310\\lib\\site-packages (from trio~=0.17->selenium>=4.9.0->undetected-chromedriver) (1.1.3)\n",
      "Requirement already satisfied: sniffio in c:\\users\\nitro\\appdata\\local\\programs\\python\\python310\\lib\\site-packages (from trio~=0.17->selenium>=4.9.0->undetected-chromedriver) (1.3.0)\n",
      "Requirement already satisfied: attrs>=20.1.0 in c:\\users\\nitro\\appdata\\local\\programs\\python\\python310\\lib\\site-packages (from trio~=0.17->selenium>=4.9.0->undetected-chromedriver) (22.1.0)\n",
      "Requirement already satisfied: cffi>=1.14 in c:\\users\\nitro\\appdata\\local\\programs\\python\\python310\\lib\\site-packages (from trio~=0.17->selenium>=4.9.0->undetected-chromedriver) (1.15.1)\n",
      "Requirement already satisfied: wsproto>=0.14 in c:\\users\\nitro\\appdata\\local\\programs\\python\\python310\\lib\\site-packages (from trio-websocket~=0.9->selenium>=4.9.0->undetected-chromedriver) (1.2.0)\n",
      "Requirement already satisfied: PySocks!=1.5.7,<2.0,>=1.5.6 in c:\\users\\nitro\\appdata\\local\\programs\\python\\python310\\lib\\site-packages (from urllib3[socks]<3,>=1.26->selenium>=4.9.0->undetected-chromedriver) (1.7.1)\n",
      "Requirement already satisfied: pycparser in c:\\users\\nitro\\appdata\\local\\programs\\python\\python310\\lib\\site-packages (from cffi>=1.14->trio~=0.17->selenium>=4.9.0->undetected-chromedriver) (2.21)\n",
      "Requirement already satisfied: h11<1,>=0.9.0 in c:\\users\\nitro\\appdata\\local\\programs\\python\\python310\\lib\\site-packages (from wsproto>=0.14->trio-websocket~=0.9->selenium>=4.9.0->undetected-chromedriver) (0.14.0)\n",
      "Building wheels for collected packages: undetected-chromedriver\n",
      "  Building wheel for undetected-chromedriver (setup.py): started\n",
      "  Building wheel for undetected-chromedriver (setup.py): finished with status 'done'\n",
      "  Created wheel for undetected-chromedriver: filename=undetected_chromedriver-3.5.3-py3-none-any.whl size=46988 sha256=d2b0fad347d1216a7794cef53608393368ab985e1aa6b39adab26b754fa42849\n",
      "  Stored in directory: c:\\users\\nitro\\appdata\\local\\pip\\cache\\wheels\\a5\\04\\b3\\ed5a9bae791b3b81452262ae7fa9596e191863244fc4ea8208\n",
      "Successfully built undetected-chromedriver\n",
      "Installing collected packages: websockets, undetected-chromedriver\n",
      "Successfully installed undetected-chromedriver-3.5.3 websockets-11.0.3\n",
      "\n",
      "[notice] A new release of pip available: 22.1.2 -> 23.2.1\n",
      "[notice] To update, run: python.exe -m pip install --upgrade pip\n",
      "Note: you may need to restart the kernel to use updated packages.\n"
     ]
    }
   ],
   "source": [
    "pip install undetected-chromedriver"
   ]
  },
  {
   "cell_type": "code",
   "execution_count": 14,
   "metadata": {},
   "outputs": [],
   "source": [
    "import requests\n",
    "from bs4 import BeautifulSoup as bs\n",
    "import random\n",
    "import time\n",
    "import pandas as pd\n",
    "import numpy as np\n",
    "from selenium import webdriver\n",
    "from selenium.webdriver.common.by import By\n",
    "from selenium.webdriver.common.keys import Keys\n",
    "import undetected_chromedriver as uc\n",
    "import time"
   ]
  },
  {
   "cell_type": "code",
   "execution_count": 15,
   "metadata": {},
   "outputs": [
    {
     "ename": "AttributeError",
     "evalue": "'ChromeOptions' object has no attribute 'headless'",
     "output_type": "error",
     "traceback": [
      "\u001b[1;31m---------------------------------------------------------------------------\u001b[0m",
      "\u001b[1;31mAttributeError\u001b[0m                            Traceback (most recent call last)",
      "\u001b[1;32mc:\\Users\\NITRO\\Desktop\\scraping\\scraping_idealista.ipynb Celda 4\u001b[0m line \u001b[0;36m<cell line: 1>\u001b[1;34m()\u001b[0m\n\u001b[1;32m----> <a href='vscode-notebook-cell:/c%3A/Users/NITRO/Desktop/scraping/scraping_idealista.ipynb#W3sZmlsZQ%3D%3D?line=0'>1</a>\u001b[0m browser \u001b[39m=\u001b[39m uc\u001b[39m.\u001b[39;49mChrome()\n",
      "File \u001b[1;32mc:\\Users\\NITRO\\AppData\\Local\\Programs\\Python\\Python310\\lib\\site-packages\\undetected_chromedriver\\__init__.py:398\u001b[0m, in \u001b[0;36mChrome.__init__\u001b[1;34m(self, options, user_data_dir, driver_executable_path, browser_executable_path, port, enable_cdp_events, desired_capabilities, advanced_elements, keep_alive, log_level, headless, version_main, patcher_force_close, suppress_welcome, use_subprocess, debug, no_sandbox, user_multi_procs, **kw)\u001b[0m\n\u001b[0;32m    395\u001b[0m \u001b[39mif\u001b[39;00m no_sandbox:\n\u001b[0;32m    396\u001b[0m     options\u001b[39m.\u001b[39marguments\u001b[39m.\u001b[39mextend([\u001b[39m\"\u001b[39m\u001b[39m--no-sandbox\u001b[39m\u001b[39m\"\u001b[39m, \u001b[39m\"\u001b[39m\u001b[39m--test-type\u001b[39m\u001b[39m\"\u001b[39m])\n\u001b[1;32m--> 398\u001b[0m \u001b[39mif\u001b[39;00m headless \u001b[39mor\u001b[39;00m options\u001b[39m.\u001b[39;49mheadless:\n\u001b[0;32m    399\u001b[0m     \u001b[39m#workaround until a better checking is found\u001b[39;00m\n\u001b[0;32m    400\u001b[0m     \u001b[39mtry\u001b[39;00m:\n\u001b[0;32m    401\u001b[0m         \u001b[39mif\u001b[39;00m \u001b[39mself\u001b[39m\u001b[39m.\u001b[39mpatcher\u001b[39m.\u001b[39mversion_main \u001b[39m<\u001b[39m \u001b[39m108\u001b[39m:\n",
      "\u001b[1;31mAttributeError\u001b[0m: 'ChromeOptions' object has no attribute 'headless'"
     ]
    }
   ],
   "source": [
    "browser = uc.Chrome()"
   ]
  },
  {
   "cell_type": "code",
   "execution_count": 11,
   "metadata": {},
   "outputs": [
    {
     "ename": "TypeError",
     "evalue": "Chrome.get() missing 1 required positional argument: 'url'",
     "output_type": "error",
     "traceback": [
      "\u001b[1;31m---------------------------------------------------------------------------\u001b[0m",
      "\u001b[1;31mTypeError\u001b[0m                                 Traceback (most recent call last)",
      "\u001b[1;32mc:\\Users\\NITRO\\Desktop\\scraping\\scraping_idealista.ipynb Celda 5\u001b[0m line \u001b[0;36m<cell line: 2>\u001b[1;34m()\u001b[0m\n\u001b[0;32m      <a href='vscode-notebook-cell:/c%3A/Users/NITRO/Desktop/scraping/scraping_idealista.ipynb#W4sZmlsZQ%3D%3D?line=0'>1</a>\u001b[0m url\u001b[39m=\u001b[39m(\u001b[39m\"\u001b[39m\u001b[39mhttps://www.idealista.com/inmueble/100757232/\u001b[39m\u001b[39m\"\u001b[39m)\n\u001b[1;32m----> <a href='vscode-notebook-cell:/c%3A/Users/NITRO/Desktop/scraping/scraping_idealista.ipynb#W4sZmlsZQ%3D%3D?line=1'>2</a>\u001b[0m browser\u001b[39m.\u001b[39;49mget(url)\n",
      "\u001b[1;31mTypeError\u001b[0m: Chrome.get() missing 1 required positional argument: 'url'"
     ]
    }
   ],
   "source": [
    "url=(\"https://www.idealista.com/inmueble/100757232/\")\n",
    "browser.get(url)"
   ]
  },
  {
   "cell_type": "code",
   "execution_count": 9,
   "metadata": {},
   "outputs": [
    {
     "ename": "TypeError",
     "evalue": "Chrome.get() missing 1 required positional argument: 'url'",
     "output_type": "error",
     "traceback": [
      "\u001b[1;31m---------------------------------------------------------------------------\u001b[0m",
      "\u001b[1;31mTypeError\u001b[0m                                 Traceback (most recent call last)",
      "\u001b[1;32mc:\\Users\\NITRO\\Desktop\\scraping\\scraping_idealista.ipynb Celda 6\u001b[0m line \u001b[0;36m<cell line: 1>\u001b[1;34m()\u001b[0m\n\u001b[1;32m----> <a href='vscode-notebook-cell:/c%3A/Users/NITRO/Desktop/scraping/scraping_idealista.ipynb#W5sZmlsZQ%3D%3D?line=0'>1</a>\u001b[0m browser\u001b[39m.\u001b[39;49mget(url)\n",
      "\u001b[1;31mTypeError\u001b[0m: Chrome.get() missing 1 required positional argument: 'url'"
     ]
    }
   ],
   "source": [
    "browser.get(url)"
   ]
  },
  {
   "cell_type": "code",
   "execution_count": 16,
   "metadata": {},
   "outputs": [
    {
     "name": "stdout",
     "output_type": "stream",
     "text": [
      "Collecting webdriver-manager\n",
      "  Downloading webdriver_manager-4.0.1-py2.py3-none-any.whl (27 kB)\n",
      "Collecting python-dotenv\n",
      "  Downloading python_dotenv-1.0.0-py3-none-any.whl (19 kB)\n",
      "Requirement already satisfied: packaging in c:\\users\\nitro\\appdata\\local\\programs\\python\\python310\\lib\\site-packages (from webdriver-manager) (21.3)\n",
      "Requirement already satisfied: requests in c:\\users\\nitro\\appdata\\local\\programs\\python\\python310\\lib\\site-packages (from webdriver-manager) (2.31.0)\n",
      "Requirement already satisfied: pyparsing!=3.0.5,>=2.0.2 in c:\\users\\nitro\\appdata\\local\\programs\\python\\python310\\lib\\site-packages (from packaging->webdriver-manager) (3.0.9)\n",
      "Requirement already satisfied: urllib3<3,>=1.21.1 in c:\\users\\nitro\\appdata\\local\\programs\\python\\python310\\lib\\site-packages (from requests->webdriver-manager) (1.26.16)\n",
      "Requirement already satisfied: charset-normalizer<4,>=2 in c:\\users\\nitro\\appdata\\local\\programs\\python\\python310\\lib\\site-packages (from requests->webdriver-manager) (3.1.0)\n",
      "Requirement already satisfied: idna<4,>=2.5 in c:\\users\\nitro\\appdata\\local\\programs\\python\\python310\\lib\\site-packages (from requests->webdriver-manager) (3.4)\n",
      "Requirement already satisfied: certifi>=2017.4.17 in c:\\users\\nitro\\appdata\\local\\programs\\python\\python310\\lib\\site-packages (from requests->webdriver-manager) (2023.5.7)\n",
      "Installing collected packages: python-dotenv, webdriver-manager\n",
      "Successfully installed python-dotenv-1.0.0 webdriver-manager-4.0.1\n",
      "\n",
      "[notice] A new release of pip available: 22.1.2 -> 23.2.1\n",
      "[notice] To update, run: python.exe -m pip install --upgrade pip\n",
      "Note: you may need to restart the kernel to use updated packages.\n"
     ]
    }
   ],
   "source": [
    "pip install webdriver-manager"
   ]
  },
  {
   "cell_type": "code",
   "execution_count": 17,
   "metadata": {},
   "outputs": [
    {
     "name": "stdout",
     "output_type": "stream",
     "text": [
      "Requirement already satisfied: Selenium in c:\\users\\nitro\\appdata\\local\\programs\\python\\python310\\lib\\site-packages (4.13.0)\n",
      "Requirement already satisfied: trio~=0.17 in c:\\users\\nitro\\appdata\\local\\programs\\python\\python310\\lib\\site-packages (from Selenium) (0.22.2)\n",
      "Requirement already satisfied: certifi>=2021.10.8 in c:\\users\\nitro\\appdata\\local\\programs\\python\\python310\\lib\\site-packages (from Selenium) (2023.5.7)\n",
      "Requirement already satisfied: urllib3[socks]<3,>=1.26 in c:\\users\\nitro\\appdata\\local\\programs\\python\\python310\\lib\\site-packages (from Selenium) (1.26.16)\n",
      "Requirement already satisfied: trio-websocket~=0.9 in c:\\users\\nitro\\appdata\\local\\programs\\python\\python310\\lib\\site-packages (from Selenium) (0.11.1)\n",
      "Requirement already satisfied: cffi>=1.14 in c:\\users\\nitro\\appdata\\local\\programs\\python\\python310\\lib\\site-packages (from trio~=0.17->Selenium) (1.15.1)\n",
      "Requirement already satisfied: sortedcontainers in c:\\users\\nitro\\appdata\\local\\programs\\python\\python310\\lib\\site-packages (from trio~=0.17->Selenium) (2.4.0)\n",
      "Requirement already satisfied: exceptiongroup>=1.0.0rc9 in c:\\users\\nitro\\appdata\\local\\programs\\python\\python310\\lib\\site-packages (from trio~=0.17->Selenium) (1.1.3)\n",
      "Requirement already satisfied: outcome in c:\\users\\nitro\\appdata\\local\\programs\\python\\python310\\lib\\site-packages (from trio~=0.17->Selenium) (1.2.0)\n",
      "Requirement already satisfied: sniffio in c:\\users\\nitro\\appdata\\local\\programs\\python\\python310\\lib\\site-packages (from trio~=0.17->Selenium) (1.3.0)\n",
      "Requirement already satisfied: attrs>=20.1.0 in c:\\users\\nitro\\appdata\\local\\programs\\python\\python310\\lib\\site-packages (from trio~=0.17->Selenium) (22.1.0)\n",
      "Requirement already satisfied: idna in c:\\users\\nitro\\appdata\\local\\programs\\python\\python310\\lib\\site-packages (from trio~=0.17->Selenium) (3.4)\n",
      "Requirement already satisfied: wsproto>=0.14 in c:\\users\\nitro\\appdata\\local\\programs\\python\\python310\\lib\\site-packages (from trio-websocket~=0.9->Selenium) (1.2.0)\n",
      "Requirement already satisfied: PySocks!=1.5.7,<2.0,>=1.5.6 in c:\\users\\nitro\\appdata\\local\\programs\\python\\python310\\lib\\site-packages (from urllib3[socks]<3,>=1.26->Selenium) (1.7.1)\n",
      "Requirement already satisfied: pycparser in c:\\users\\nitro\\appdata\\local\\programs\\python\\python310\\lib\\site-packages (from cffi>=1.14->trio~=0.17->Selenium) (2.21)\n",
      "Requirement already satisfied: h11<1,>=0.9.0 in c:\\users\\nitro\\appdata\\local\\programs\\python\\python310\\lib\\site-packages (from wsproto>=0.14->trio-websocket~=0.9->Selenium) (0.14.0)\n",
      "\n",
      "[notice] A new release of pip available: 22.1.2 -> 23.2.1\n",
      "[notice] To update, run: python.exe -m pip install --upgrade pip\n",
      "Note: you may need to restart the kernel to use updated packages.\n"
     ]
    }
   ],
   "source": [
    "pip install Selenium"
   ]
  },
  {
   "cell_type": "code",
   "execution_count": 20,
   "metadata": {},
   "outputs": [],
   "source": [
    "from selenium import webdriver\n",
    "from selenium.webdriver.common.keys import Keys\n",
    "from selenium.webdriver.common.by import By"
   ]
  },
  {
   "cell_type": "code",
   "execution_count": 98,
   "metadata": {},
   "outputs": [],
   "source": [
    "driver = webdriver.Edge()"
   ]
  },
  {
   "cell_type": "code",
   "execution_count": 41,
   "metadata": {},
   "outputs": [],
   "source": [
    "driver.get(\"https://rpp.pe/ultimas-noticias\")"
   ]
  },
  {
   "cell_type": "code",
   "execution_count": 42,
   "metadata": {},
   "outputs": [],
   "source": [
    "elemento = driver.find_element(By.XPATH, '//h2[@class=\"news__title\"]')\n",
    "elemento.click()"
   ]
  },
  {
   "cell_type": "code",
   "execution_count": 43,
   "metadata": {},
   "outputs": [],
   "source": [
    "time.sleep(3) "
   ]
  },
  {
   "cell_type": "code",
   "execution_count": 44,
   "metadata": {},
   "outputs": [
    {
     "name": "stdout",
     "output_type": "stream",
     "text": [
      "Información extraída: Esta iniciativa es parte integral del programa “Desarrollo de capacidades para un turismo sostenible” del Británico y tiene como objetivo principal eliminar las barreras del idioma para facilitar la comunicación con los millones de turistas extranjeros que visitan el país.\n"
     ]
    }
   ],
   "source": [
    "elemento_extra = driver.find_element(By.XPATH, '//div[@class=\"article__subtitle\"]')\n",
    "elemento_extra = driver.find_element(By.XPATH, '//div[@class=\"article__subtitle\"]')\n",
    "informacion = elemento_extra.text\n",
    "print('Información extraída:', informacion)"
   ]
  },
  {
   "cell_type": "markdown",
   "metadata": {},
   "source": [
    "LINKEDIN"
   ]
  },
  {
   "cell_type": "code",
   "execution_count": 45,
   "metadata": {},
   "outputs": [],
   "source": [
    "driver.get(\"https://www.linkedin.com/jobs/search?trk=guest_homepage-basic_guest_nav_menu_jobs&position=1&pageNum=0\")"
   ]
  },
  {
   "cell_type": "code",
   "execution_count": 46,
   "metadata": {},
   "outputs": [],
   "source": [
    "elemento = driver.find_element(By.XPATH, '//a[@class=\"base-card__full-link absolute top-0 right-0 bottom-0 left-0 p-0 z-[2]\"]')\n",
    "elemento.click()"
   ]
  },
  {
   "cell_type": "code",
   "execution_count": 47,
   "metadata": {},
   "outputs": [],
   "source": [
    "time.sleep(3) "
   ]
  },
  {
   "cell_type": "code",
   "execution_count": 50,
   "metadata": {},
   "outputs": [
    {
     "name": "stdout",
     "output_type": "stream",
     "text": [
      "Información extraída: Peds Infectious Disease\n",
      "Información extraída: Health eCareers\n",
      "Información extraída: Orange, California, Estados Unidos\n"
     ]
    }
   ],
   "source": [
    "elemento_extra = driver.find_element(By.XPATH, '//h1[@class=\"top-card-layout__title font-sans text-lg papabear:text-xl font-bold leading-open text-color-text mb-0 topcard__title\"]')\n",
    "elemento_extra1 = driver.find_element(By.XPATH, '//a[@class=\"topcard__org-name-link topcard__flavor--black-link\"]')\n",
    "elemento_extra2 = driver.find_element(By.XPATH, '//span[@class=\"topcard__flavor topcard__flavor--bullet\"]')\n",
    "\n",
    "informacion = elemento_extra.text\n",
    "informacion1 = elemento_extra1.text\n",
    "informacion2 = elemento_extra2.text\n",
    "print('Información extraída:', informacion)\n",
    "print('Información extraída:', informacion1)\n",
    "print('Información extraída:', informacion2)"
   ]
  },
  {
   "cell_type": "markdown",
   "metadata": {},
   "source": [
    "computrabajo"
   ]
  },
  {
   "cell_type": "code",
   "execution_count": 97,
   "metadata": {},
   "outputs": [
    {
     "ename": "NoSuchWindowException",
     "evalue": "Message: no such window: target window already closed\nfrom unknown error: web view not found\n  (Session info: MicrosoftEdge=117.0.2045.47)\nStacktrace:\n\tGetHandleVerifier [0x00007FF7ED5399B2+63682]\n\tMicrosoft::Applications::Events::ILogConfiguration::operator* [0x00007FF7ED4C1902+267730]\n\t(No symbol) [0x00007FF7ED27AC0E]\n\t(No symbol) [0x00007FF7ED2528C7]\n\t(No symbol) [0x00007FF7ED2F0B9F]\n\t(No symbol) [0x00007FF7ED3063E8]\n\t(No symbol) [0x00007FF7ED2EC623]\n\t(No symbol) [0x00007FF7ED2BDA7A]\n\t(No symbol) [0x00007FF7ED2BCD6B]\n\t(No symbol) [0x00007FF7ED2BE204]\n\tMicrosoft::Applications::Events::EventProperty::to_string [0x00007FF7ED705EB9+1233737]\n\t(No symbol) [0x00007FF7ED33B274]\n\tMicrosoft::Applications::Events::EventProperty::~EventProperty [0x00007FF7ED40329A+33498]\n\tMicrosoft::Applications::Events::EventProperty::~EventProperty [0x00007FF7ED3FBDD9+3609]\n\tMicrosoft::Applications::Events::EventProperty::to_string [0x00007FF7ED704C54+1229028]\n\tMicrosoft::Applications::Events::ILogConfiguration::operator* [0x00007FF7ED4CBAA8+309112]\n\tMicrosoft::Applications::Events::ILogConfiguration::operator* [0x00007FF7ED4C6784+287828]\n\tMicrosoft::Applications::Events::ILogConfiguration::operator* [0x00007FF7ED4C68B2+288130]\n\tMicrosoft::Applications::Events::ILogConfiguration::operator* [0x00007FF7ED4B9FB1+236673]\n\tBaseThreadInitThunk [0x00007FFF6ADB7344+20]\n\tRtlUserThreadStart [0x00007FFF6AFC26B1+33]\n",
     "output_type": "error",
     "traceback": [
      "\u001b[1;31m---------------------------------------------------------------------------\u001b[0m",
      "\u001b[1;31mNoSuchWindowException\u001b[0m                     Traceback (most recent call last)",
      "\u001b[1;32mc:\\Users\\NITRO\\Desktop\\scraping\\scraping_idealista.ipynb Celda 21\u001b[0m line \u001b[0;36m<cell line: 1>\u001b[1;34m()\u001b[0m\n\u001b[1;32m----> <a href='vscode-notebook-cell:/c%3A/Users/NITRO/Desktop/scraping/scraping_idealista.ipynb#X30sZmlsZQ%3D%3D?line=0'>1</a>\u001b[0m driver\u001b[39m.\u001b[39;49mget(\u001b[39m\"\u001b[39;49m\u001b[39mhttps://pe.computrabajo.com/trabajo-de-asesor-de-ventas-en-lima\u001b[39;49m\u001b[39m\"\u001b[39;49m)\n",
      "File \u001b[1;32mc:\\Users\\NITRO\\AppData\\Local\\Programs\\Python\\Python310\\lib\\site-packages\\selenium\\webdriver\\remote\\webdriver.py:353\u001b[0m, in \u001b[0;36mWebDriver.get\u001b[1;34m(self, url)\u001b[0m\n\u001b[0;32m    351\u001b[0m \u001b[39mdef\u001b[39;00m \u001b[39mget\u001b[39m(\u001b[39mself\u001b[39m, url: \u001b[39mstr\u001b[39m) \u001b[39m-\u001b[39m\u001b[39m>\u001b[39m \u001b[39mNone\u001b[39;00m:\n\u001b[0;32m    352\u001b[0m     \u001b[39m\"\"\"Loads a web page in the current browser session.\"\"\"\u001b[39;00m\n\u001b[1;32m--> 353\u001b[0m     \u001b[39mself\u001b[39;49m\u001b[39m.\u001b[39;49mexecute(Command\u001b[39m.\u001b[39;49mGET, {\u001b[39m\"\u001b[39;49m\u001b[39murl\u001b[39;49m\u001b[39m\"\u001b[39;49m: url})\n",
      "File \u001b[1;32mc:\\Users\\NITRO\\AppData\\Local\\Programs\\Python\\Python310\\lib\\site-packages\\selenium\\webdriver\\remote\\webdriver.py:344\u001b[0m, in \u001b[0;36mWebDriver.execute\u001b[1;34m(self, driver_command, params)\u001b[0m\n\u001b[0;32m    342\u001b[0m response \u001b[39m=\u001b[39m \u001b[39mself\u001b[39m\u001b[39m.\u001b[39mcommand_executor\u001b[39m.\u001b[39mexecute(driver_command, params)\n\u001b[0;32m    343\u001b[0m \u001b[39mif\u001b[39;00m response:\n\u001b[1;32m--> 344\u001b[0m     \u001b[39mself\u001b[39;49m\u001b[39m.\u001b[39;49merror_handler\u001b[39m.\u001b[39;49mcheck_response(response)\n\u001b[0;32m    345\u001b[0m     response[\u001b[39m\"\u001b[39m\u001b[39mvalue\u001b[39m\u001b[39m\"\u001b[39m] \u001b[39m=\u001b[39m \u001b[39mself\u001b[39m\u001b[39m.\u001b[39m_unwrap_value(response\u001b[39m.\u001b[39mget(\u001b[39m\"\u001b[39m\u001b[39mvalue\u001b[39m\u001b[39m\"\u001b[39m, \u001b[39mNone\u001b[39;00m))\n\u001b[0;32m    346\u001b[0m     \u001b[39mreturn\u001b[39;00m response\n",
      "File \u001b[1;32mc:\\Users\\NITRO\\AppData\\Local\\Programs\\Python\\Python310\\lib\\site-packages\\selenium\\webdriver\\remote\\errorhandler.py:229\u001b[0m, in \u001b[0;36mErrorHandler.check_response\u001b[1;34m(self, response)\u001b[0m\n\u001b[0;32m    227\u001b[0m         alert_text \u001b[39m=\u001b[39m value[\u001b[39m\"\u001b[39m\u001b[39malert\u001b[39m\u001b[39m\"\u001b[39m]\u001b[39m.\u001b[39mget(\u001b[39m\"\u001b[39m\u001b[39mtext\u001b[39m\u001b[39m\"\u001b[39m)\n\u001b[0;32m    228\u001b[0m     \u001b[39mraise\u001b[39;00m exception_class(message, screen, stacktrace, alert_text)  \u001b[39m# type: ignore[call-arg]  # mypy is not smart enough here\u001b[39;00m\n\u001b[1;32m--> 229\u001b[0m \u001b[39mraise\u001b[39;00m exception_class(message, screen, stacktrace)\n",
      "\u001b[1;31mNoSuchWindowException\u001b[0m: Message: no such window: target window already closed\nfrom unknown error: web view not found\n  (Session info: MicrosoftEdge=117.0.2045.47)\nStacktrace:\n\tGetHandleVerifier [0x00007FF7ED5399B2+63682]\n\tMicrosoft::Applications::Events::ILogConfiguration::operator* [0x00007FF7ED4C1902+267730]\n\t(No symbol) [0x00007FF7ED27AC0E]\n\t(No symbol) [0x00007FF7ED2528C7]\n\t(No symbol) [0x00007FF7ED2F0B9F]\n\t(No symbol) [0x00007FF7ED3063E8]\n\t(No symbol) [0x00007FF7ED2EC623]\n\t(No symbol) [0x00007FF7ED2BDA7A]\n\t(No symbol) [0x00007FF7ED2BCD6B]\n\t(No symbol) [0x00007FF7ED2BE204]\n\tMicrosoft::Applications::Events::EventProperty::to_string [0x00007FF7ED705EB9+1233737]\n\t(No symbol) [0x00007FF7ED33B274]\n\tMicrosoft::Applications::Events::EventProperty::~EventProperty [0x00007FF7ED40329A+33498]\n\tMicrosoft::Applications::Events::EventProperty::~EventProperty [0x00007FF7ED3FBDD9+3609]\n\tMicrosoft::Applications::Events::EventProperty::to_string [0x00007FF7ED704C54+1229028]\n\tMicrosoft::Applications::Events::ILogConfiguration::operator* [0x00007FF7ED4CBAA8+309112]\n\tMicrosoft::Applications::Events::ILogConfiguration::operator* [0x00007FF7ED4C6784+287828]\n\tMicrosoft::Applications::Events::ILogConfiguration::operator* [0x00007FF7ED4C68B2+288130]\n\tMicrosoft::Applications::Events::ILogConfiguration::operator* [0x00007FF7ED4B9FB1+236673]\n\tBaseThreadInitThunk [0x00007FFF6ADB7344+20]\n\tRtlUserThreadStart [0x00007FFF6AFC26B1+33]\n"
     ]
    }
   ],
   "source": [
    "driver.get(\"https://pe.computrabajo.com/trabajo-de-asesor-de-ventas-en-lima\")"
   ]
  },
  {
   "cell_type": "code",
   "execution_count": 61,
   "metadata": {},
   "outputs": [],
   "source": [
    "elemento = driver.find_element(By.XPATH, '//a[@class=\"js-o-link fc_base\"]')\n",
    "elemento.click()"
   ]
  },
  {
   "cell_type": "code",
   "execution_count": null,
   "metadata": {},
   "outputs": [],
   "source": [
    "time.sleep(3) "
   ]
  },
  {
   "cell_type": "code",
   "execution_count": 62,
   "metadata": {},
   "outputs": [
    {
     "name": "stdout",
     "output_type": "stream",
     "text": [
      "Información extraída: Asesor de Ventas Portabilidad / Descanso FIJO Domingos / Capacitación de SOLO 6 DÍAS / Presencial - Planilla Completa S/.1025 + BONO de Pasajes + Comisiones Ilimitadas\n",
      "Información extraída: FORTEL CUSTOMER EXPERIENCE - Lince, Lima\n",
      "Información extraída: S/. 1.025,00 (Mensual) Contrato por Inicio o Incremento de Actividad Tiempo completo Remoto\n",
      "Información extraída: Educación mínima: Técnico\n",
      "Edad: entre 20 y 45 años\n"
     ]
    }
   ],
   "source": [
    "elemento_extra = driver.find_element(By.XPATH, '//h1[@class=\"fwB fs24 mb5 box_detail w100_m\"]')\n",
    "elemento_extra1 = driver.find_element(By.XPATH, '//p[@class=\"fs16\"]')\n",
    "elemento_extra2 = driver.find_element(By.XPATH, '//div[@class=\"mbB\"]')\n",
    "elemento_extra3 = driver.find_element(By.XPATH, '//ul[@class=\"disc mbB\"]')\n",
    "\n",
    "informacion = elemento_extra.text\n",
    "informacion1 = elemento_extra1.text\n",
    "informacion2 = elemento_extra2.text\n",
    "informacion3 = elemento_extra3.text\n",
    "print('Información extraída:', informacion)\n",
    "print('Información extraída:', informacion1)\n",
    "print('Información extraída:', informacion2)\n",
    "print('Información extraída:', informacion3)"
   ]
  },
  {
   "cell_type": "code",
   "execution_count": null,
   "metadata": {},
   "outputs": [],
   "source": [
    "with open('linkedin.csv', 'w', newline='', encoding='utf-8') as csv_file:\n",
    "    csv_writer = csv.writer(csv_file)\n",
    "    #encabezados\n",
    "    csv_writer.writerow(['Nom_Trabajo','Empresa-Ubicacion', 'Remuneracion','Requerimientos'])\n",
    "\n",
    "    #solitctud get\n",
    "    driver.get(\"https://pe.computrabajo.com/trabajo-de-asesor-de-ventas-en-lima\")\n",
    "\n",
    "    #enlaces\n",
    "    elementos_lista = driver.find_elements(By.XPATH, '//a[@class=\"js-o-link fc_base\"]/li/a')\n",
    "\n",
    "    for elemento in elementos_lista:\n",
    "        elemento.click()\n",
    "\n",
    "    time.sleep(3) \n",
    "\n",
    "\n",
    "    if response.status_code == 200:\n",
    "        soup = BeautifulSoup(response.text, 'html.parser')\n",
    "        #titulos de las noticias\n",
    "        nom_trabajos = soup.find_all('h3', class_='base-search-card__title')\n",
    "        empresas = soup.find_all('a', class_='hidden-nested-link')\n",
    "        ubicaciones = soup.find_all('span', class_='job-search-card__location')\n",
    "        tiempo = soup.find_all('time', class_='job-search-card__listdate')\n",
    "\n",
    "        for  i in range(len(nom_trabajos)):\n",
    "            trabajo = nom_trabajos[i].text.strip()\n",
    "            empresa = empresas[i].text.strip()\n",
    "            ubicacion = ubicaciones[i].text.strip()\n",
    "            tiempo_publicacion = tiempo[i].text.strip()\n",
    "            csv_writer.writerow([trabajo,empresa,ubicacion,tiempo_publicacion])\n",
    "\n",
    "    print('Datos guardados en \"linkedin.csv\".')"
   ]
  },
  {
   "cell_type": "code",
   "execution_count": 86,
   "metadata": {},
   "outputs": [
    {
     "name": "stdout",
     "output_type": "stream",
     "text": [
      "Información extraída: Asesor de Ventas Portabilidad / Descanso FIJO Domingos / Capacitación de SOLO 6 DÍAS / Presencial - Planilla Completa S/.1025 + BONO de Pasajes + Comisiones Ilimitadas\n",
      "Información extraída: FORTEL CUSTOMER EXPERIENCE - Lince, Lima\n",
      "Información extraída: S/. 1.025,00 (Mensual) Contrato por Inicio o Incremento de Actividad Tiempo completo Remoto\n",
      "Información extraída: Educación mínima: Técnico\n",
      "Edad: entre 20 y 45 años\n",
      "Información extraída: Sólo Trabaja de Lunes a Viernes / 4am a 2pm / Asesor de Ventas / Gana 1105.00 + Comisiones Ilimitadas + Planilla Completa / Con Movilidad\n",
      "Información extraída: Covisian Perú - Lima, Lima\n",
      "Información extraída: A convenir Contrato por Inicio o Incremento de Actividad Tiempo completo\n",
      "Información extraída: Educación mínima: Educación Secundaria\n",
      "Menos de 1 año de experiencia\n",
      "Edad: entre 18 y 50 años\n",
      "Conocimientos: Ventas, Call Center\n",
      "Información extraída: Asesor de ventas con o sin experiencia / capacitaciones pagadas - (Ref.39648)\n",
      "Información extraída: Manpower - Lima, Lima\n",
      "Información extraída: S/. 1.025,00 (Mensual) Contrato por Inicio o Incremento de Actividad Tiempo completo\n",
      "Información extraída: Educación mínima: Educación Secundaria\n",
      "Información extraída: Asesor de Ventas\n",
      "Información extraída: Grupo Tawa - San Isidro, Lima\n",
      "Información extraída: S/. 2.000,00 (Mensual) Contrato por Inicio o Incremento de Actividad Tiempo completo\n",
      "Información extraída: Educación mínima: Técnico\n",
      "1 año de experiencia\n",
      "Información extraída: Asesor de Ventas\n",
      "Información extraída: Grupo Tawa - La Molina, Lima\n",
      "Información extraída: S/. 1.030,00 (Mensual) Contrato por Inicio o Incremento de Actividad Tiempo completo\n",
      "Información extraída: Educación mínima: Educación Secundaria\n",
      "Menos de 1 año de experiencia\n",
      "Información extraída: Asesor de Ventas\n",
      "Información extraída: Grupo Tawa - Villa El Salvador, Lima\n",
      "Información extraída: S/. 1.030,00 (Mensual) Contrato por Inicio o Incremento de Actividad Tiempo completo\n",
      "Información extraída: Educación mínima: Educación Secundaria\n",
      "Menos de 1 año de experiencia\n",
      "Información extraída: Descansa Sábado y Domingo / Con o Sin Experiencia / Movilidad de recojo Gratis / Asesor de Ventas / Gana desde S/1500 + Bono nocturno / Planilla completa + Comisiones Ilimitadas\n",
      "Información extraída: Covisian Perú - Lima, Lima\n",
      "Información extraída: S/. 1.500,00 (Mensual) Contrato por Inicio o Incremento de Actividad Tiempo completo\n",
      "Información extraída: Educación mínima: Educación Secundaria\n",
      "Edad: A partir de 19 años\n",
      "Información extraída: U R G E N T E!! Asesor de Ventas Call Center para Oncosalud / Part Time M A Ñ A N A / Presencial en Benavides 2150 / Sueldo Fijo + Beneficios y Comisiones I L I M I T A D A S / Ingreso Directo!!\n",
      "Información extraída: TCONTAKTO - Miraflores, Lima\n",
      "Información extraída: A convenir Contrato Ocasional Tiempo parcial\n",
      "Información extraída: Educación mínima: Educación Secundaria\n",
      "Menos de 1 año de experiencia\n",
      "Edad: A partir de 18 años\n",
      "Información extraída: Solo de Lunes a Viernes! Gana S/. 1025 + Bono S/. 275 + Altas comisiones (+ S/. 1000) + Bono Nocturno + Movilidad Gratis + planilla a full/ Asesores de Venta Call Center / Sede Lima\n",
      "Información extraída: Covisian Perú - Lima, Lima\n",
      "Información extraída: A convenir Contrato a Plazo Indeterminado Tiempo completo\n",
      "Información extraída: Educación mínima: Educación Secundaria\n",
      "Edad: A partir de 18 años\n",
      "Información extraída: Asesor(a) de venta Con/Sin experiencia Turno Mañana y Tarde Part time Planilla desde el primer día - Contrato Directo\n",
      "Información extraída: DACOMPANY SAC - La Victoria, Lima\n",
      "Información extraída: A convenir Contrato por Necesidades del Mercado Tiempo completo\n",
      "Información extraída: Educación mínima: Educación Secundaria\n",
      "Idiomas: Español\n",
      "Edad: entre 18 y 45 años\n",
      "Conocimientos: Negociación, Orientación al logro, Ventas\n",
      "Información extraída: ¡¡Te brindamos movilidad + Bono de Movilidad S/. 100 soles!! Asesor de Ventas / Público Español - ¡Gestión de 35 horas! Bono nocturno + Planilla\n",
      "Información extraída: Importante empresa del sector - Lince, Lima\n",
      "Información extraída: S/. 1.025,00 (Mensual) Contrato por Necesidades del Mercado Tiempo completo\n",
      "Información extraída: Educación mínima: Educación Secundaria\n",
      "Menos de 1 año de experiencia\n",
      "Información extraída: Asesor de Venta/Campo/Sueldo S/. 1,500+S/.200 de Movilidad - BonosAtractivos+PlanillaCompleta/1DíaCapacitación\n",
      "Información extraída: PERUCRED DIGITAL FINANCE SOCIE - Miraflores, Lima\n",
      "Información extraída: S/. 1.500,00 (Mensual) Contrato por Inicio o Incremento de Actividad Tiempo completo\n",
      "Información extraída: Educación mínima: Técnico\n",
      "1 año de experiencia\n",
      "Edad: entre 25 y 45 años\n",
      "Información extraída: Turno Mañana solo de lunes a viernes de 8am a 5pm/ Asesores de Ventas por Call con Exp - Trabaja solo 40 hr /Presencial en Lince\n",
      "Información extraída: FORTEL CUSTOMER EXPERIENCE - Lima, Lima\n",
      "Información extraída: S/. 1.125,00 (Mensual) Contrato a Plazo Indeterminado Tiempo completo\n",
      "Información extraída: Educación mínima: Educación Secundaria\n",
      "Edad: entre 19 y 54 años\n",
      "Información extraída: Asesor (ATC y Ventas) Publico Español / Turno Madrugada / Básico S/.1025 + Comisiones Ilimitadas + Planilla completa + Bonos + Movilidad gratuita / Centro de Lima!\n",
      "Información extraída: Covisian Perú - Lima, Lima\n",
      "Información extraída: A convenir Contrato por Inicio o Incremento de Actividad Tiempo completo\n",
      "Información extraída: Educación mínima: Educación Secundaria\n",
      "Edad: A partir de 20 años\n",
      "Información extraída: Asesor de Ventas Publico Español / Descansa Sábado y Domingo / Trabaja de Lunes a Viernes / Sueldo Fijo S/.1025 + Altas Comisiones + Beneficios de Ley + Bono Nocturno / Movilidad Incluida!\n",
      "Información extraída: Covisian Perú - Lima, Lima\n",
      "Información extraída: A convenir Contrato por Inicio o Incremento de Actividad Tiempo completo\n",
      "Información extraída: Educación mínima: Educación Secundaria\n",
      "Edad: A partir de 20 años\n",
      "Información extraída: Asesor de Ventas Coca cola Compañy Surquillo Presencial/ Turno Mañana/ S/ 1245.00 + Comisiones e Incentivos + Planilla Completa + Otros Beneficios!!\n",
      "Información extraída: Konecta - Surquillo, Lima\n",
      "Información extraída: S/. 1.245,00 (Mensual) Contrato por Inicio o Incremento de Actividad Tiempo completo\n",
      "Información extraída: Educación mínima: Educación Secundaria\n",
      "Menos de 1 año de experiencia\n",
      "Edad: A partir de 18 años\n",
      "Conocimientos: Comunicación y persuasión, Asesoría comercial, Call Center\n",
      "Información extraída: Asesor de Ventas / Publico Español / T. Madrugada + Movilidad / Gana S/.1025 + Altas Comisiones + Bono + Beneficios de ley/\n",
      "Información extraída: Covisian Perú - Lima, Lima\n",
      "Información extraída: A convenir Contrato por Inicio o Incremento de Actividad Tiempo completo\n",
      "Información extraída: Educación mínima: Educación Secundaria\n",
      "Edad: A partir de 20 años\n",
      "Información extraída: Trabaja de Casa / Asesor de Ventas Portabilidad / Brindamos PC/Lap +Modem / Sueldo Fijo S/.1025 + Comisiones Altas + Bono + Beneficios de Ley + Bono de Luz! / Capacitaciones pagadas / Ingresa hoy!\n",
      "Información extraída: Covisian Perú - Lima, Lima\n",
      "Información extraída: A convenir Contrato por Inicio o Incremento de Actividad Tiempo completo Remoto\n",
      "Información extraída: Educación mínima: Educación Secundaria\n",
      "Edad: A partir de 19 años\n",
      "Información extraída: I N G R E S A H O Y! Asesor de Ventas Portabilidad / Trabaja de Casa! / Gana S/. 1025 + Altas Comisiones + Beneficios de Ley! / Te Brindamos PC/L A P + Modem!\n",
      "Información extraída: Covisian Perú - Lima, Lima\n",
      "Información extraída: A convenir Contrato por Inicio o Incremento de Actividad Tiempo completo Remoto\n",
      "Información extraída: Educación mínima: Educación Secundaria\n",
      "Edad: A partir de 19 años\n",
      "Información extraída: Asesor de Ventas Banca / Lima Metropolitana\n",
      "Información extraída: Adecco Perú S.A. - Lima, Lima\n",
      "Información extraída: A convenir Contrato por Inicio o Incremento de Actividad Tiempo completo\n",
      "Información extraída: Educación mínima: Técnico\n",
      "1 año de experiencia\n",
      "Edad: A partir de 18 años\n"
     ]
    },
    {
     "ename": "NoSuchElementException",
     "evalue": "Message: no such element: Unable to locate element: {\"method\":\"xpath\",\"selector\":\"//h1[@class=\"fwB fs24 mb5 box_detail w100_m\"]\"}\n  (Session info: MicrosoftEdge=117.0.2045.47); For documentation on this error, please visit: https://www.selenium.dev/documentation/webdriver/troubleshooting/errors#no-such-element-exception\nStacktrace:\n\tGetHandleVerifier [0x00007FF7ED5399B2+63682]\n\tMicrosoft::Applications::Events::ILogConfiguration::operator* [0x00007FF7ED4C1902+267730]\n\t(No symbol) [0x00007FF7ED27AC0E]\n\t(No symbol) [0x00007FF7ED2CB4D7]\n\t(No symbol) [0x00007FF7ED2CB5E8]\n\t(No symbol) [0x00007FF7ED309A27]\n\t(No symbol) [0x00007FF7ED2EC88F]\n\t(No symbol) [0x00007FF7ED2BEC51]\n\t(No symbol) [0x00007FF7ED306A81]\n\t(No symbol) [0x00007FF7ED2EC623]\n\t(No symbol) [0x00007FF7ED2BDA7A]\n\t(No symbol) [0x00007FF7ED2BCD6B]\n\t(No symbol) [0x00007FF7ED2BE204]\n\tMicrosoft::Applications::Events::EventProperty::to_string [0x00007FF7ED705EB9+1233737]\n\t(No symbol) [0x00007FF7ED33B274]\n\tMicrosoft::Applications::Events::EventProperty::~EventProperty [0x00007FF7ED40329A+33498]\n\tMicrosoft::Applications::Events::EventProperty::~EventProperty [0x00007FF7ED3FBDD9+3609]\n\tMicrosoft::Applications::Events::EventProperty::to_string [0x00007FF7ED704C54+1229028]\n\tMicrosoft::Applications::Events::ILogConfiguration::operator* [0x00007FF7ED4CBAA8+309112]\n\tMicrosoft::Applications::Events::ILogConfiguration::operator* [0x00007FF7ED4C6784+287828]\n\tMicrosoft::Applications::Events::ILogConfiguration::operator* [0x00007FF7ED4C68B2+288130]\n\tMicrosoft::Applications::Events::ILogConfiguration::operator* [0x00007FF7ED4B9FB1+236673]\n\tBaseThreadInitThunk [0x00007FFF6ADB7344+20]\n\tRtlUserThreadStart [0x00007FFF6AFC26B1+33]\n",
     "output_type": "error",
     "traceback": [
      "\u001b[1;31m---------------------------------------------------------------------------\u001b[0m",
      "\u001b[1;31mNoSuchElementException\u001b[0m                    Traceback (most recent call last)",
      "\u001b[1;32mc:\\Users\\NITRO\\Desktop\\scraping\\scraping_idealista.ipynb Celda 26\u001b[0m line \u001b[0;36m<cell line: 7>\u001b[1;34m()\u001b[0m\n\u001b[0;32m      <a href='vscode-notebook-cell:/c%3A/Users/NITRO/Desktop/scraping/scraping_idealista.ipynb#X35sZmlsZQ%3D%3D?line=7'>8</a>\u001b[0m driver\u001b[39m.\u001b[39mexecute_script(\u001b[39m\"\u001b[39m\u001b[39marguments[0].click();\u001b[39m\u001b[39m\"\u001b[39m, elemento)\n\u001b[0;32m      <a href='vscode-notebook-cell:/c%3A/Users/NITRO/Desktop/scraping/scraping_idealista.ipynb#X35sZmlsZQ%3D%3D?line=8'>9</a>\u001b[0m time\u001b[39m.\u001b[39msleep(\u001b[39m5\u001b[39m) \n\u001b[1;32m---> <a href='vscode-notebook-cell:/c%3A/Users/NITRO/Desktop/scraping/scraping_idealista.ipynb#X35sZmlsZQ%3D%3D?line=9'>10</a>\u001b[0m elemento_extra \u001b[39m=\u001b[39m driver\u001b[39m.\u001b[39;49mfind_element(By\u001b[39m.\u001b[39;49mXPATH, \u001b[39m'\u001b[39;49m\u001b[39m//h1[@class=\u001b[39;49m\u001b[39m\"\u001b[39;49m\u001b[39mfwB fs24 mb5 box_detail w100_m\u001b[39;49m\u001b[39m\"\u001b[39;49m\u001b[39m]\u001b[39;49m\u001b[39m'\u001b[39;49m)\n\u001b[0;32m     <a href='vscode-notebook-cell:/c%3A/Users/NITRO/Desktop/scraping/scraping_idealista.ipynb#X35sZmlsZQ%3D%3D?line=10'>11</a>\u001b[0m elemento_extra1 \u001b[39m=\u001b[39m driver\u001b[39m.\u001b[39mfind_element(By\u001b[39m.\u001b[39mXPATH, \u001b[39m'\u001b[39m\u001b[39m//p[@class=\u001b[39m\u001b[39m\"\u001b[39m\u001b[39mfs16\u001b[39m\u001b[39m\"\u001b[39m\u001b[39m]\u001b[39m\u001b[39m'\u001b[39m)\n\u001b[0;32m     <a href='vscode-notebook-cell:/c%3A/Users/NITRO/Desktop/scraping/scraping_idealista.ipynb#X35sZmlsZQ%3D%3D?line=11'>12</a>\u001b[0m elemento_extra2 \u001b[39m=\u001b[39m driver\u001b[39m.\u001b[39mfind_element(By\u001b[39m.\u001b[39mXPATH, \u001b[39m'\u001b[39m\u001b[39m//div[@class=\u001b[39m\u001b[39m\"\u001b[39m\u001b[39mmbB\u001b[39m\u001b[39m\"\u001b[39m\u001b[39m]\u001b[39m\u001b[39m'\u001b[39m)\n",
      "File \u001b[1;32mc:\\Users\\NITRO\\AppData\\Local\\Programs\\Python\\Python310\\lib\\site-packages\\selenium\\webdriver\\remote\\webdriver.py:738\u001b[0m, in \u001b[0;36mWebDriver.find_element\u001b[1;34m(self, by, value)\u001b[0m\n\u001b[0;32m    735\u001b[0m     by \u001b[39m=\u001b[39m By\u001b[39m.\u001b[39mCSS_SELECTOR\n\u001b[0;32m    736\u001b[0m     value \u001b[39m=\u001b[39m \u001b[39mf\u001b[39m\u001b[39m'\u001b[39m\u001b[39m[name=\u001b[39m\u001b[39m\"\u001b[39m\u001b[39m{\u001b[39;00mvalue\u001b[39m}\u001b[39;00m\u001b[39m\"\u001b[39m\u001b[39m]\u001b[39m\u001b[39m'\u001b[39m\n\u001b[1;32m--> 738\u001b[0m \u001b[39mreturn\u001b[39;00m \u001b[39mself\u001b[39;49m\u001b[39m.\u001b[39;49mexecute(Command\u001b[39m.\u001b[39;49mFIND_ELEMENT, {\u001b[39m\"\u001b[39;49m\u001b[39musing\u001b[39;49m\u001b[39m\"\u001b[39;49m: by, \u001b[39m\"\u001b[39;49m\u001b[39mvalue\u001b[39;49m\u001b[39m\"\u001b[39;49m: value})[\u001b[39m\"\u001b[39m\u001b[39mvalue\u001b[39m\u001b[39m\"\u001b[39m]\n",
      "File \u001b[1;32mc:\\Users\\NITRO\\AppData\\Local\\Programs\\Python\\Python310\\lib\\site-packages\\selenium\\webdriver\\remote\\webdriver.py:344\u001b[0m, in \u001b[0;36mWebDriver.execute\u001b[1;34m(self, driver_command, params)\u001b[0m\n\u001b[0;32m    342\u001b[0m response \u001b[39m=\u001b[39m \u001b[39mself\u001b[39m\u001b[39m.\u001b[39mcommand_executor\u001b[39m.\u001b[39mexecute(driver_command, params)\n\u001b[0;32m    343\u001b[0m \u001b[39mif\u001b[39;00m response:\n\u001b[1;32m--> 344\u001b[0m     \u001b[39mself\u001b[39;49m\u001b[39m.\u001b[39;49merror_handler\u001b[39m.\u001b[39;49mcheck_response(response)\n\u001b[0;32m    345\u001b[0m     response[\u001b[39m\"\u001b[39m\u001b[39mvalue\u001b[39m\u001b[39m\"\u001b[39m] \u001b[39m=\u001b[39m \u001b[39mself\u001b[39m\u001b[39m.\u001b[39m_unwrap_value(response\u001b[39m.\u001b[39mget(\u001b[39m\"\u001b[39m\u001b[39mvalue\u001b[39m\u001b[39m\"\u001b[39m, \u001b[39mNone\u001b[39;00m))\n\u001b[0;32m    346\u001b[0m     \u001b[39mreturn\u001b[39;00m response\n",
      "File \u001b[1;32mc:\\Users\\NITRO\\AppData\\Local\\Programs\\Python\\Python310\\lib\\site-packages\\selenium\\webdriver\\remote\\errorhandler.py:229\u001b[0m, in \u001b[0;36mErrorHandler.check_response\u001b[1;34m(self, response)\u001b[0m\n\u001b[0;32m    227\u001b[0m         alert_text \u001b[39m=\u001b[39m value[\u001b[39m\"\u001b[39m\u001b[39malert\u001b[39m\u001b[39m\"\u001b[39m]\u001b[39m.\u001b[39mget(\u001b[39m\"\u001b[39m\u001b[39mtext\u001b[39m\u001b[39m\"\u001b[39m)\n\u001b[0;32m    228\u001b[0m     \u001b[39mraise\u001b[39;00m exception_class(message, screen, stacktrace, alert_text)  \u001b[39m# type: ignore[call-arg]  # mypy is not smart enough here\u001b[39;00m\n\u001b[1;32m--> 229\u001b[0m \u001b[39mraise\u001b[39;00m exception_class(message, screen, stacktrace)\n",
      "\u001b[1;31mNoSuchElementException\u001b[0m: Message: no such element: Unable to locate element: {\"method\":\"xpath\",\"selector\":\"//h1[@class=\"fwB fs24 mb5 box_detail w100_m\"]\"}\n  (Session info: MicrosoftEdge=117.0.2045.47); For documentation on this error, please visit: https://www.selenium.dev/documentation/webdriver/troubleshooting/errors#no-such-element-exception\nStacktrace:\n\tGetHandleVerifier [0x00007FF7ED5399B2+63682]\n\tMicrosoft::Applications::Events::ILogConfiguration::operator* [0x00007FF7ED4C1902+267730]\n\t(No symbol) [0x00007FF7ED27AC0E]\n\t(No symbol) [0x00007FF7ED2CB4D7]\n\t(No symbol) [0x00007FF7ED2CB5E8]\n\t(No symbol) [0x00007FF7ED309A27]\n\t(No symbol) [0x00007FF7ED2EC88F]\n\t(No symbol) [0x00007FF7ED2BEC51]\n\t(No symbol) [0x00007FF7ED306A81]\n\t(No symbol) [0x00007FF7ED2EC623]\n\t(No symbol) [0x00007FF7ED2BDA7A]\n\t(No symbol) [0x00007FF7ED2BCD6B]\n\t(No symbol) [0x00007FF7ED2BE204]\n\tMicrosoft::Applications::Events::EventProperty::to_string [0x00007FF7ED705EB9+1233737]\n\t(No symbol) [0x00007FF7ED33B274]\n\tMicrosoft::Applications::Events::EventProperty::~EventProperty [0x00007FF7ED40329A+33498]\n\tMicrosoft::Applications::Events::EventProperty::~EventProperty [0x00007FF7ED3FBDD9+3609]\n\tMicrosoft::Applications::Events::EventProperty::to_string [0x00007FF7ED704C54+1229028]\n\tMicrosoft::Applications::Events::ILogConfiguration::operator* [0x00007FF7ED4CBAA8+309112]\n\tMicrosoft::Applications::Events::ILogConfiguration::operator* [0x00007FF7ED4C6784+287828]\n\tMicrosoft::Applications::Events::ILogConfiguration::operator* [0x00007FF7ED4C68B2+288130]\n\tMicrosoft::Applications::Events::ILogConfiguration::operator* [0x00007FF7ED4B9FB1+236673]\n\tBaseThreadInitThunk [0x00007FFF6ADB7344+20]\n\tRtlUserThreadStart [0x00007FFF6AFC26B1+33]\n"
     ]
    }
   ],
   "source": [
    "#solitctud get\n",
    "driver.get(\"https://pe.computrabajo.com/trabajo-de-asesor-de-ventas-en-lima\")\n",
    "\n",
    "    #enlaces\n",
    "elementos_lista = driver.find_elements(By.XPATH, '//div[@class=\"w100\"]')\n",
    "\n",
    "for elemento in elementos_lista:\n",
    "    driver.execute_script(\"arguments[0].click();\", elemento)\n",
    "    time.sleep(5) \n",
    "    elemento_extra = driver.find_element(By.XPATH, '//h1[@class=\"fwB fs24 mb5 box_detail w100_m\"]')\n",
    "    elemento_extra1 = driver.find_element(By.XPATH, '//p[@class=\"fs16\"]')\n",
    "    elemento_extra2 = driver.find_element(By.XPATH, '//div[@class=\"mbB\"]')\n",
    "    elemento_extra3 = driver.find_element(By.XPATH, '//ul[@class=\"disc mbB\"]')\n",
    "\n",
    "    print('Información extraída:', elemento_extra.text)\n",
    "    print('Información extraída:', elemento_extra1.text)\n",
    "    print('Información extraída:', elemento_extra2.text)\n",
    "    print('Información extraída:', elemento_extra3.text)\n",
    "\n",
    "    driver.back()#regresar pag anterior"
   ]
  },
  {
   "cell_type": "code",
   "execution_count": 107,
   "metadata": {},
   "outputs": [
    {
     "name": "stdout",
     "output_type": "stream",
     "text": [
      "Nom_Trabajo: Asesor de Ventas Portabilidad / Descanso FIJO Domingos / Capacitación de SOLO 6 DÍAS / Presencial - Planilla Completa S/.1025 + BONO de Pasajes + Comisiones Ilimitadas\n",
      "Ubicacion: FORTEL CUSTOMER EXPERIENCE - Lince, Lima\n",
      "Remuneración: S/. 1.025,00 (Mensual) Contrato por Inicio o Incremento de Actividad Tiempo completo Remoto\n",
      "Requerimientos: Educación mínima: Técnico\n",
      "Edad: entre 20 y 45 años\n",
      "Nom_Trabajo: Sólo Trabaja de Lunes a Viernes / 4am a 2pm / Asesor de Ventas / Gana 1105.00 + Comisiones Ilimitadas + Planilla Completa / Con Movilidad\n",
      "Ubicacion: Covisian Perú - Lima, Lima\n",
      "Remuneración: A convenir Contrato por Inicio o Incremento de Actividad Tiempo completo\n",
      "Requerimientos: Educación mínima: Educación Secundaria\n",
      "Menos de 1 año de experiencia\n",
      "Edad: entre 18 y 50 años\n",
      "Conocimientos: Ventas, Call Center\n",
      "Nom_Trabajo: Asesor de ventas con o sin experiencia / capacitaciones pagadas - (Ref.39648)\n",
      "Ubicacion: Manpower - Lima, Lima\n",
      "Remuneración: S/. 1.025,00 (Mensual) Contrato por Inicio o Incremento de Actividad Tiempo completo\n",
      "Requerimientos: Educación mínima: Educación Secundaria\n",
      "Nom_Trabajo: Asesor de Ventas\n",
      "Ubicacion: Grupo Tawa - San Isidro, Lima\n",
      "Remuneración: S/. 2.000,00 (Mensual) Contrato por Inicio o Incremento de Actividad Tiempo completo\n",
      "Requerimientos: Educación mínima: Técnico\n",
      "1 año de experiencia\n",
      "Nom_Trabajo: Asesor de Ventas\n",
      "Ubicacion: Grupo Tawa - La Molina, Lima\n",
      "Remuneración: S/. 1.030,00 (Mensual) Contrato por Inicio o Incremento de Actividad Tiempo completo\n",
      "Requerimientos: Educación mínima: Educación Secundaria\n",
      "Menos de 1 año de experiencia\n",
      "Nom_Trabajo: Asesor de Ventas\n",
      "Ubicacion: Grupo Tawa - Villa El Salvador, Lima\n",
      "Remuneración: S/. 1.030,00 (Mensual) Contrato por Inicio o Incremento de Actividad Tiempo completo\n",
      "Requerimientos: Educación mínima: Educación Secundaria\n",
      "Menos de 1 año de experiencia\n",
      "Nom_Trabajo: Descansa Sábado y Domingo / Con o Sin Experiencia / Movilidad de recojo Gratis / Asesor de Ventas / Gana desde S/1500 + Bono nocturno / Planilla completa + Comisiones Ilimitadas\n",
      "Ubicacion: Covisian Perú - Lima, Lima\n",
      "Remuneración: S/. 1.500,00 (Mensual) Contrato por Inicio o Incremento de Actividad Tiempo completo\n",
      "Requerimientos: Educación mínima: Educación Secundaria\n",
      "Edad: A partir de 19 años\n",
      "Nom_Trabajo: U R G E N T E!! Asesor de Ventas Call Center para Oncosalud / Part Time M A Ñ A N A / Presencial en Benavides 2150 / Sueldo Fijo + Beneficios y Comisiones I L I M I T A D A S / Ingreso Directo!!\n",
      "Ubicacion: TCONTAKTO - Miraflores, Lima\n",
      "Remuneración: A convenir Contrato Ocasional Tiempo parcial\n",
      "Requerimientos: Educación mínima: Educación Secundaria\n",
      "Menos de 1 año de experiencia\n",
      "Edad: A partir de 18 años\n",
      "Nom_Trabajo: Solo de Lunes a Viernes! Gana S/. 1025 + Bono S/. 275 + Altas comisiones (+ S/. 1000) + Bono Nocturno + Movilidad Gratis + planilla a full/ Asesores de Venta Call Center / Sede Lima\n",
      "Ubicacion: Covisian Perú - Lima, Lima\n",
      "Remuneración: A convenir Contrato a Plazo Indeterminado Tiempo completo\n",
      "Requerimientos: Educación mínima: Educación Secundaria\n",
      "Edad: A partir de 18 años\n",
      "Nom_Trabajo: Asesor(a) de venta Con/Sin experiencia Turno Mañana y Tarde Part time Planilla desde el primer día - Contrato Directo\n",
      "Ubicacion: DACOMPANY SAC - La Victoria, Lima\n",
      "Remuneración: A convenir Contrato por Necesidades del Mercado Tiempo completo\n",
      "Requerimientos: Educación mínima: Educación Secundaria\n",
      "Idiomas: Español\n",
      "Edad: entre 18 y 45 años\n",
      "Conocimientos: Negociación, Orientación al logro, Ventas\n",
      "Nom_Trabajo: ¡¡Te brindamos movilidad + Bono de Movilidad S/. 100 soles!! Asesor de Ventas / Público Español - ¡Gestión de 35 horas! Bono nocturno + Planilla\n",
      "Ubicacion: Importante empresa del sector - Lince, Lima\n",
      "Remuneración: S/. 1.025,00 (Mensual) Contrato por Necesidades del Mercado Tiempo completo\n",
      "Requerimientos: Educación mínima: Educación Secundaria\n",
      "Menos de 1 año de experiencia\n",
      "Nom_Trabajo: Asesor de Venta/Campo/Sueldo S/. 1,500+S/.200 de Movilidad - BonosAtractivos+PlanillaCompleta/1DíaCapacitación\n",
      "Ubicacion: PERUCRED DIGITAL FINANCE SOCIE - Miraflores, Lima\n",
      "Remuneración: S/. 1.500,00 (Mensual) Contrato por Inicio o Incremento de Actividad Tiempo completo\n",
      "Requerimientos: Educación mínima: Técnico\n",
      "1 año de experiencia\n",
      "Edad: entre 25 y 45 años\n",
      "Nom_Trabajo: Turno Mañana solo de lunes a viernes de 8am a 5pm/ Asesores de Ventas por Call con Exp - Trabaja solo 40 hr /Presencial en Lince\n",
      "Ubicacion: FORTEL CUSTOMER EXPERIENCE - Lima, Lima\n",
      "Remuneración: S/. 1.125,00 (Mensual) Contrato a Plazo Indeterminado Tiempo completo\n",
      "Requerimientos: Educación mínima: Educación Secundaria\n",
      "Edad: entre 19 y 54 años\n",
      "Nom_Trabajo: Asesor (ATC y Ventas) Publico Español / Turno Madrugada / Básico S/.1025 + Comisiones Ilimitadas + Planilla completa + Bonos + Movilidad gratuita / Centro de Lima!\n",
      "Ubicacion: Covisian Perú - Lima, Lima\n",
      "Remuneración: A convenir Contrato por Inicio o Incremento de Actividad Tiempo completo\n",
      "Requerimientos: Educación mínima: Educación Secundaria\n",
      "Edad: A partir de 20 años\n",
      "Nom_Trabajo: Asesor de Ventas Publico Español / Descansa Sábado y Domingo / Trabaja de Lunes a Viernes / Sueldo Fijo S/.1025 + Altas Comisiones + Beneficios de Ley + Bono Nocturno / Movilidad Incluida!\n",
      "Ubicacion: Covisian Perú - Lima, Lima\n",
      "Remuneración: A convenir Contrato por Inicio o Incremento de Actividad Tiempo completo\n",
      "Requerimientos: Educación mínima: Educación Secundaria\n",
      "Edad: A partir de 20 años\n",
      "Nom_Trabajo: Asesor de Ventas Coca cola Compañy Surquillo Presencial/ Turno Mañana/ S/ 1245.00 + Comisiones e Incentivos + Planilla Completa + Otros Beneficios!!\n",
      "Ubicacion: Konecta - Surquillo, Lima\n",
      "Remuneración: S/. 1.245,00 (Mensual) Contrato por Inicio o Incremento de Actividad Tiempo completo\n",
      "Requerimientos: Educación mínima: Educación Secundaria\n",
      "Menos de 1 año de experiencia\n",
      "Edad: A partir de 18 años\n",
      "Conocimientos: Comunicación y persuasión, Asesoría comercial, Call Center\n",
      "Nom_Trabajo: Asesor de Ventas / Publico Español / T. Madrugada + Movilidad / Gana S/.1025 + Altas Comisiones + Bono + Beneficios de ley/\n",
      "Ubicacion: Covisian Perú - Lima, Lima\n",
      "Remuneración: A convenir Contrato por Inicio o Incremento de Actividad Tiempo completo\n",
      "Requerimientos: Educación mínima: Educación Secundaria\n",
      "Edad: A partir de 20 años\n",
      "Nom_Trabajo: Trabaja de Casa / Asesor de Ventas Portabilidad / Brindamos PC/Lap +Modem / Sueldo Fijo S/.1025 + Comisiones Altas + Bono + Beneficios de Ley + Bono de Luz! / Capacitaciones pagadas / Ingresa hoy!\n",
      "Ubicacion: Covisian Perú - Lima, Lima\n",
      "Remuneración: A convenir Contrato por Inicio o Incremento de Actividad Tiempo completo Remoto\n",
      "Requerimientos: Educación mínima: Educación Secundaria\n",
      "Edad: A partir de 19 años\n",
      "Nom_Trabajo: I N G R E S A H O Y! Asesor de Ventas Portabilidad / Trabaja de Casa! / Gana S/. 1025 + Altas Comisiones + Beneficios de Ley! / Te Brindamos PC/L A P + Modem!\n",
      "Ubicacion: Covisian Perú - Lima, Lima\n",
      "Remuneración: A convenir Contrato por Inicio o Incremento de Actividad Tiempo completo Remoto\n",
      "Requerimientos: Educación mínima: Educación Secundaria\n",
      "Edad: A partir de 19 años\n",
      "Nom_Trabajo: Asesor de Ventas Banca / Lima Metropolitana\n",
      "Ubicacion: Adecco Perú S.A. - Lima, Lima\n",
      "Remuneración: A convenir Contrato por Inicio o Incremento de Actividad Tiempo completo\n",
      "Requerimientos: Educación mínima: Técnico\n",
      "1 año de experiencia\n",
      "Edad: A partir de 18 años\n"
     ]
    },
    {
     "ename": "NoSuchElementException",
     "evalue": "Message: no such element: Unable to locate element: {\"method\":\"xpath\",\"selector\":\"//h1[@class=\"fwB fs24 mb5 box_detail w100_m\"]\"}\n  (Session info: MicrosoftEdge=117.0.2045.47); For documentation on this error, please visit: https://www.selenium.dev/documentation/webdriver/troubleshooting/errors#no-such-element-exception\nStacktrace:\n\tGetHandleVerifier [0x00007FF7B81499F2+63682]\n\tMicrosoft::Applications::Events::ILogConfiguration::operator* [0x00007FF7B80D1942+267746]\n\t(No symbol) [0x00007FF7B7E8AC0E]\n\t(No symbol) [0x00007FF7B7EDB4D7]\n\t(No symbol) [0x00007FF7B7EDB5E8]\n\t(No symbol) [0x00007FF7B7F19A27]\n\t(No symbol) [0x00007FF7B7EFC88F]\n\t(No symbol) [0x00007FF7B7ECEC51]\n\t(No symbol) [0x00007FF7B7F16A81]\n\t(No symbol) [0x00007FF7B7EFC623]\n\t(No symbol) [0x00007FF7B7ECDA7A]\n\t(No symbol) [0x00007FF7B7ECCD6B]\n\t(No symbol) [0x00007FF7B7ECE204]\n\tMicrosoft::Applications::Events::EventProperty::to_string [0x00007FF7B8315EF9+1233737]\n\t(No symbol) [0x00007FF7B7F4B274]\n\tMicrosoft::Applications::Events::EventProperty::~EventProperty [0x00007FF7B801329A+33498]\n\tMicrosoft::Applications::Events::EventProperty::~EventProperty [0x00007FF7B800BDD9+3609]\n\tMicrosoft::Applications::Events::EventProperty::to_string [0x00007FF7B8314C94+1229028]\n\tMicrosoft::Applications::Events::ILogConfiguration::operator* [0x00007FF7B80DBAE8+309128]\n\tMicrosoft::Applications::Events::ILogConfiguration::operator* [0x00007FF7B80D67C4+287844]\n\tMicrosoft::Applications::Events::ILogConfiguration::operator* [0x00007FF7B80D68F2+288146]\n\tMicrosoft::Applications::Events::ILogConfiguration::operator* [0x00007FF7B80C9FF1+236689]\n\tBaseThreadInitThunk [0x00007FFF6ADB7344+20]\n\tRtlUserThreadStart [0x00007FFF6AFC26B1+33]\n",
     "output_type": "error",
     "traceback": [
      "\u001b[1;31m---------------------------------------------------------------------------\u001b[0m",
      "\u001b[1;31mNoSuchElementException\u001b[0m                    Traceback (most recent call last)",
      "\u001b[1;32mc:\\Users\\NITRO\\Desktop\\scraping\\scraping_idealista.ipynb Celda 27\u001b[0m line \u001b[0;36m<cell line: 7>\u001b[1;34m()\u001b[0m\n\u001b[0;32m      <a href='vscode-notebook-cell:/c%3A/Users/NITRO/Desktop/scraping/scraping_idealista.ipynb#X36sZmlsZQ%3D%3D?line=7'>8</a>\u001b[0m driver\u001b[39m.\u001b[39mexecute_script(\u001b[39m\"\u001b[39m\u001b[39marguments[0].click();\u001b[39m\u001b[39m\"\u001b[39m, elemento)\n\u001b[0;32m      <a href='vscode-notebook-cell:/c%3A/Users/NITRO/Desktop/scraping/scraping_idealista.ipynb#X36sZmlsZQ%3D%3D?line=8'>9</a>\u001b[0m time\u001b[39m.\u001b[39msleep(\u001b[39m3\u001b[39m) \n\u001b[1;32m---> <a href='vscode-notebook-cell:/c%3A/Users/NITRO/Desktop/scraping/scraping_idealista.ipynb#X36sZmlsZQ%3D%3D?line=9'>10</a>\u001b[0m trabajo \u001b[39m=\u001b[39m driver\u001b[39m.\u001b[39;49mfind_element(By\u001b[39m.\u001b[39;49mXPATH, \u001b[39m'\u001b[39;49m\u001b[39m//h1[@class=\u001b[39;49m\u001b[39m\"\u001b[39;49m\u001b[39mfwB fs24 mb5 box_detail w100_m\u001b[39;49m\u001b[39m\"\u001b[39;49m\u001b[39m]\u001b[39;49m\u001b[39m'\u001b[39;49m)\n\u001b[0;32m     <a href='vscode-notebook-cell:/c%3A/Users/NITRO/Desktop/scraping/scraping_idealista.ipynb#X36sZmlsZQ%3D%3D?line=10'>11</a>\u001b[0m ubicacion \u001b[39m=\u001b[39m driver\u001b[39m.\u001b[39mfind_element(By\u001b[39m.\u001b[39mXPATH, \u001b[39m'\u001b[39m\u001b[39m//p[@class=\u001b[39m\u001b[39m\"\u001b[39m\u001b[39mfs16\u001b[39m\u001b[39m\"\u001b[39m\u001b[39m]\u001b[39m\u001b[39m'\u001b[39m)\n\u001b[0;32m     <a href='vscode-notebook-cell:/c%3A/Users/NITRO/Desktop/scraping/scraping_idealista.ipynb#X36sZmlsZQ%3D%3D?line=11'>12</a>\u001b[0m remuneracion \u001b[39m=\u001b[39m driver\u001b[39m.\u001b[39mfind_element(By\u001b[39m.\u001b[39mXPATH, \u001b[39m'\u001b[39m\u001b[39m//div[@class=\u001b[39m\u001b[39m\"\u001b[39m\u001b[39mmbB\u001b[39m\u001b[39m\"\u001b[39m\u001b[39m]\u001b[39m\u001b[39m'\u001b[39m)\n",
      "File \u001b[1;32mc:\\Users\\NITRO\\AppData\\Local\\Programs\\Python\\Python310\\lib\\site-packages\\selenium\\webdriver\\remote\\webdriver.py:738\u001b[0m, in \u001b[0;36mWebDriver.find_element\u001b[1;34m(self, by, value)\u001b[0m\n\u001b[0;32m    735\u001b[0m     by \u001b[39m=\u001b[39m By\u001b[39m.\u001b[39mCSS_SELECTOR\n\u001b[0;32m    736\u001b[0m     value \u001b[39m=\u001b[39m \u001b[39mf\u001b[39m\u001b[39m'\u001b[39m\u001b[39m[name=\u001b[39m\u001b[39m\"\u001b[39m\u001b[39m{\u001b[39;00mvalue\u001b[39m}\u001b[39;00m\u001b[39m\"\u001b[39m\u001b[39m]\u001b[39m\u001b[39m'\u001b[39m\n\u001b[1;32m--> 738\u001b[0m \u001b[39mreturn\u001b[39;00m \u001b[39mself\u001b[39;49m\u001b[39m.\u001b[39;49mexecute(Command\u001b[39m.\u001b[39;49mFIND_ELEMENT, {\u001b[39m\"\u001b[39;49m\u001b[39musing\u001b[39;49m\u001b[39m\"\u001b[39;49m: by, \u001b[39m\"\u001b[39;49m\u001b[39mvalue\u001b[39;49m\u001b[39m\"\u001b[39;49m: value})[\u001b[39m\"\u001b[39m\u001b[39mvalue\u001b[39m\u001b[39m\"\u001b[39m]\n",
      "File \u001b[1;32mc:\\Users\\NITRO\\AppData\\Local\\Programs\\Python\\Python310\\lib\\site-packages\\selenium\\webdriver\\remote\\webdriver.py:344\u001b[0m, in \u001b[0;36mWebDriver.execute\u001b[1;34m(self, driver_command, params)\u001b[0m\n\u001b[0;32m    342\u001b[0m response \u001b[39m=\u001b[39m \u001b[39mself\u001b[39m\u001b[39m.\u001b[39mcommand_executor\u001b[39m.\u001b[39mexecute(driver_command, params)\n\u001b[0;32m    343\u001b[0m \u001b[39mif\u001b[39;00m response:\n\u001b[1;32m--> 344\u001b[0m     \u001b[39mself\u001b[39;49m\u001b[39m.\u001b[39;49merror_handler\u001b[39m.\u001b[39;49mcheck_response(response)\n\u001b[0;32m    345\u001b[0m     response[\u001b[39m\"\u001b[39m\u001b[39mvalue\u001b[39m\u001b[39m\"\u001b[39m] \u001b[39m=\u001b[39m \u001b[39mself\u001b[39m\u001b[39m.\u001b[39m_unwrap_value(response\u001b[39m.\u001b[39mget(\u001b[39m\"\u001b[39m\u001b[39mvalue\u001b[39m\u001b[39m\"\u001b[39m, \u001b[39mNone\u001b[39;00m))\n\u001b[0;32m    346\u001b[0m     \u001b[39mreturn\u001b[39;00m response\n",
      "File \u001b[1;32mc:\\Users\\NITRO\\AppData\\Local\\Programs\\Python\\Python310\\lib\\site-packages\\selenium\\webdriver\\remote\\errorhandler.py:229\u001b[0m, in \u001b[0;36mErrorHandler.check_response\u001b[1;34m(self, response)\u001b[0m\n\u001b[0;32m    227\u001b[0m         alert_text \u001b[39m=\u001b[39m value[\u001b[39m\"\u001b[39m\u001b[39malert\u001b[39m\u001b[39m\"\u001b[39m]\u001b[39m.\u001b[39mget(\u001b[39m\"\u001b[39m\u001b[39mtext\u001b[39m\u001b[39m\"\u001b[39m)\n\u001b[0;32m    228\u001b[0m     \u001b[39mraise\u001b[39;00m exception_class(message, screen, stacktrace, alert_text)  \u001b[39m# type: ignore[call-arg]  # mypy is not smart enough here\u001b[39;00m\n\u001b[1;32m--> 229\u001b[0m \u001b[39mraise\u001b[39;00m exception_class(message, screen, stacktrace)\n",
      "\u001b[1;31mNoSuchElementException\u001b[0m: Message: no such element: Unable to locate element: {\"method\":\"xpath\",\"selector\":\"//h1[@class=\"fwB fs24 mb5 box_detail w100_m\"]\"}\n  (Session info: MicrosoftEdge=117.0.2045.47); For documentation on this error, please visit: https://www.selenium.dev/documentation/webdriver/troubleshooting/errors#no-such-element-exception\nStacktrace:\n\tGetHandleVerifier [0x00007FF7B81499F2+63682]\n\tMicrosoft::Applications::Events::ILogConfiguration::operator* [0x00007FF7B80D1942+267746]\n\t(No symbol) [0x00007FF7B7E8AC0E]\n\t(No symbol) [0x00007FF7B7EDB4D7]\n\t(No symbol) [0x00007FF7B7EDB5E8]\n\t(No symbol) [0x00007FF7B7F19A27]\n\t(No symbol) [0x00007FF7B7EFC88F]\n\t(No symbol) [0x00007FF7B7ECEC51]\n\t(No symbol) [0x00007FF7B7F16A81]\n\t(No symbol) [0x00007FF7B7EFC623]\n\t(No symbol) [0x00007FF7B7ECDA7A]\n\t(No symbol) [0x00007FF7B7ECCD6B]\n\t(No symbol) [0x00007FF7B7ECE204]\n\tMicrosoft::Applications::Events::EventProperty::to_string [0x00007FF7B8315EF9+1233737]\n\t(No symbol) [0x00007FF7B7F4B274]\n\tMicrosoft::Applications::Events::EventProperty::~EventProperty [0x00007FF7B801329A+33498]\n\tMicrosoft::Applications::Events::EventProperty::~EventProperty [0x00007FF7B800BDD9+3609]\n\tMicrosoft::Applications::Events::EventProperty::to_string [0x00007FF7B8314C94+1229028]\n\tMicrosoft::Applications::Events::ILogConfiguration::operator* [0x00007FF7B80DBAE8+309128]\n\tMicrosoft::Applications::Events::ILogConfiguration::operator* [0x00007FF7B80D67C4+287844]\n\tMicrosoft::Applications::Events::ILogConfiguration::operator* [0x00007FF7B80D68F2+288146]\n\tMicrosoft::Applications::Events::ILogConfiguration::operator* [0x00007FF7B80C9FF1+236689]\n\tBaseThreadInitThunk [0x00007FFF6ADB7344+20]\n\tRtlUserThreadStart [0x00007FFF6AFC26B1+33]\n"
     ]
    }
   ],
   "source": [
    "#solitctud get\n",
    "driver.get(\"https://pe.computrabajo.com/trabajo-de-asesor-de-ventas-en-lima\")\n",
    "\n",
    "    #enlaces\n",
    "elementos_lista = driver.find_elements(By.XPATH, '//div[@class=\"w100\"]')\n",
    "\n",
    "for elemento in elementos_lista:\n",
    "    driver.execute_script(\"arguments[0].click();\", elemento)\n",
    "    time.sleep(3) \n",
    "    trabajo = driver.find_element(By.XPATH, '//h1[@class=\"fwB fs24 mb5 box_detail w100_m\"]')\n",
    "    ubicacion = driver.find_element(By.XPATH, '//p[@class=\"fs16\"]')\n",
    "    remuneracion = driver.find_element(By.XPATH, '//div[@class=\"mbB\"]')\n",
    "    requerimiento = driver.find_element(By.XPATH, '//ul[@class=\"disc mbB\"]')\n",
    "\n",
    "    print('Nom_Trabajo:', trabajo.text)\n",
    "    print('Ubicacion:', ubicacion.text)\n",
    "    print('Remuneración:', remuneracion.text)\n",
    "    print('Requerimientos:', requerimiento.text)\n",
    "\n",
    "    driver.back()#regresar pag anterior\n",
    "driver.quit()"
   ]
  },
  {
   "cell_type": "code",
   "execution_count": null,
   "metadata": {},
   "outputs": [],
   "source": [
    "from selenium import webdriver\n",
    "from selenium.webdriver.common.keys import Keys\n",
    "from selenium.webdriver.common.by import By"
   ]
  },
  {
   "cell_type": "code",
   "execution_count": null,
   "metadata": {},
   "outputs": [],
   "source": [
    "driver.get(\"https://pe.computrabajo.com/trabajo-de-asesor-de-ventas-en-lima\")"
   ]
  },
  {
   "cell_type": "code",
   "execution_count": 110,
   "metadata": {},
   "outputs": [
    {
     "ename": "PermissionError",
     "evalue": "[Errno 13] Permission denied: 'compu_trabajo.csv'",
     "output_type": "error",
     "traceback": [
      "\u001b[1;31m---------------------------------------------------------------------------\u001b[0m",
      "\u001b[1;31mPermissionError\u001b[0m                           Traceback (most recent call last)",
      "\u001b[1;32mc:\\Users\\NITRO\\Desktop\\scraping\\scraping_idealista.ipynb Celda 28\u001b[0m line \u001b[0;36m<cell line: 2>\u001b[1;34m()\u001b[0m\n\u001b[0;32m      <a href='vscode-notebook-cell:/c%3A/Users/NITRO/Desktop/scraping/scraping_idealista.ipynb#X42sZmlsZQ%3D%3D?line=0'>1</a>\u001b[0m \u001b[39mimport\u001b[39;00m \u001b[39mcsv\u001b[39;00m\n\u001b[1;32m----> <a href='vscode-notebook-cell:/c%3A/Users/NITRO/Desktop/scraping/scraping_idealista.ipynb#X42sZmlsZQ%3D%3D?line=1'>2</a>\u001b[0m \u001b[39mwith\u001b[39;00m \u001b[39mopen\u001b[39;49m(\u001b[39m'\u001b[39;49m\u001b[39mcompu_trabajo.csv\u001b[39;49m\u001b[39m'\u001b[39;49m, \u001b[39m'\u001b[39;49m\u001b[39mw\u001b[39;49m\u001b[39m'\u001b[39;49m, newline\u001b[39m=\u001b[39;49m\u001b[39m'\u001b[39;49m\u001b[39m'\u001b[39;49m, encoding\u001b[39m=\u001b[39;49m\u001b[39m'\u001b[39;49m\u001b[39mutf-8\u001b[39;49m\u001b[39m'\u001b[39;49m) \u001b[39mas\u001b[39;00m csv_file:\n\u001b[0;32m      <a href='vscode-notebook-cell:/c%3A/Users/NITRO/Desktop/scraping/scraping_idealista.ipynb#X42sZmlsZQ%3D%3D?line=2'>3</a>\u001b[0m     csv_writer \u001b[39m=\u001b[39m csv\u001b[39m.\u001b[39mwriter(csv_file)\n\u001b[0;32m      <a href='vscode-notebook-cell:/c%3A/Users/NITRO/Desktop/scraping/scraping_idealista.ipynb#X42sZmlsZQ%3D%3D?line=3'>4</a>\u001b[0m     \u001b[39m#encabezados\u001b[39;00m\n",
      "\u001b[1;31mPermissionError\u001b[0m: [Errno 13] Permission denied: 'compu_trabajo.csv'"
     ]
    }
   ],
   "source": [
    "import csv\n",
    "with open('compu_trabajo.csv', 'w', newline='', encoding='utf-8') as csv_file:\n",
    "    csv_writer = csv.writer(csv_file)\n",
    "    #encabezados\n",
    "    csv_writer.writerow(['Nom_Trabajo','Ubicación', 'Remuneración','Pal_claves']) \n",
    "\n",
    "    elementos_lista = driver.find_elements(By.XPATH, '//div[@class=\"w100\"]')\n",
    "\n",
    "    for elemento in elementos_lista:\n",
    "        driver.execute_script(\"arguments[0].click();\", elemento)\n",
    "        time.sleep(3) \n",
    "        trabajo = driver.find_element(By.XPATH, '//h1[@class=\"fwB fs24 mb5 box_detail w100_m\"]')\n",
    "        ubicacion = driver.find_element(By.XPATH, '//p[@class=\"fs16\"]')\n",
    "        remuneracion = driver.find_element(By.XPATH, '//div[@class=\"mbB\"]')\n",
    "        pal_claves = driver.find_element(By.XPATH, '//p[@class=\"fc_aux fs13 mbB mtB\"]')\n",
    "\n",
    "        csv_writer.writerow([trabajo.text,ubicacion.text,remuneracion.text,pal_claves.text])\n",
    "\n",
    "        driver.back()#regresar pag anterior\n",
    "       \n",
    "    print('Datos guardados en \"noticias_rpp.csv\".')\n",
    "driver.quit()"
   ]
  }
 ],
 "metadata": {
  "kernelspec": {
   "display_name": "Python 3",
   "language": "python",
   "name": "python3"
  },
  "language_info": {
   "codemirror_mode": {
    "name": "ipython",
    "version": 3
   },
   "file_extension": ".py",
   "mimetype": "text/x-python",
   "name": "python",
   "nbconvert_exporter": "python",
   "pygments_lexer": "ipython3",
   "version": "3.10.5"
  },
  "orig_nbformat": 4
 },
 "nbformat": 4,
 "nbformat_minor": 2
}
