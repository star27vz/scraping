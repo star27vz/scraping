{
 "cells": [
  {
   "cell_type": "code",
   "execution_count": 2,
   "metadata": {},
   "outputs": [],
   "source": [
    "#librerias\n",
    "import requests\n",
    "from bs4 import BeautifulSoup\n",
    "import csv\n",
    "from datetime import date, timedelta"
   ]
  },
  {
   "cell_type": "code",
   "execution_count": 3,
   "metadata": {},
   "outputs": [],
   "source": [
    "fecha_inicial = date(2023, 6, 4)\n",
    "fecha_final = date(2023, 10, 4) \n",
    "fecha_actual = fecha_inicial\n",
    "url_base = 'https://rpp.pe/archivo/'"
   ]
  },
  {
   "cell_type": "code",
   "execution_count": 18,
   "metadata": {},
   "outputs": [
    {
     "name": "stdout",
     "output_type": "stream",
     "text": [
      "Datos guardados en \"noticias_rpp.csv\".\n"
     ]
    }
   ],
   "source": [
    "with open('noticias_rpp.csv', 'w', newline='', encoding='utf-8') as csv_file:\n",
    "    csv_writer = csv.writer(csv_file)\n",
    "    #encabezados\n",
    "    csv_writer.writerow(['Fecha','Título', 'Categoria','Enlaces']) \n",
    "\n",
    "    while fecha_actual <= fecha_final:\n",
    "        url = url_base + fecha_actual.strftime('%Y-%m-%d')\n",
    "        #solitctud get\n",
    "        response = requests.get(url)\n",
    "\n",
    "        if response.status_code == 200:\n",
    "            soup = BeautifulSoup(response.text, 'html.parser')\n",
    "            #titulos de las noticias\n",
    "            noticias = soup.find_all('h2', class_='news__title')\n",
    "\n",
    "            #categorias de noticias\n",
    "            categorias = soup.find_all('h3', class_='news__tag')\n",
    "\n",
    "            for  i in range(len(noticias)):\n",
    "                titulo = noticias[i].text.strip()\n",
    "                categoria = categorias[i].text.strip()\n",
    "                enlace = noticias[i].a['href'] if noticias[i].a else 'N/A'\n",
    "                csv_writer.writerow([fecha_actual,titulo,categoria,enlace])\n",
    "        fecha_actual += timedelta(days=1)\n",
    "    print('Datos guardados en \"noticias_rpp.csv\".')"
   ]
  }
 ],
 "metadata": {
  "kernelspec": {
   "display_name": "Python 3",
   "language": "python",
   "name": "python3"
  },
  "language_info": {
   "codemirror_mode": {
    "name": "ipython",
    "version": 3
   },
   "file_extension": ".py",
   "mimetype": "text/x-python",
   "name": "python",
   "nbconvert_exporter": "python",
   "pygments_lexer": "ipython3",
   "version": "3.10.5"
  },
  "orig_nbformat": 4
 },
 "nbformat": 4,
 "nbformat_minor": 2
}
